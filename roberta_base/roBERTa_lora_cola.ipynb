{
 "cells": [
  {
   "cell_type": "code",
   "execution_count": 3,
   "metadata": {
    "colab": {
     "base_uri": "https://localhost:8080/"
    },
    "id": "SmQa6UxbVtQY",
    "outputId": "0a1700df-038a-4161-ff55-c28a7f8dc3a0"
   },
   "outputs": [
    {
     "name": "stdout",
     "output_type": "stream",
     "text": [
      "Looking in indexes: https://pypi.org/simple, https://pypi.ngc.nvidia.com\n",
      "Requirement already satisfied: transformers in /Users/yikaiyang/.asdf/installs/python/3.11.2/lib/python3.11/site-packages (4.47.0)\n",
      "Requirement already satisfied: datasets in /Users/yikaiyang/.asdf/installs/python/3.11.2/lib/python3.11/site-packages (2.18.0)\n",
      "Requirement already satisfied: evaluate in /Users/yikaiyang/.asdf/installs/python/3.11.2/lib/python3.11/site-packages (0.4.3)\n",
      "Requirement already satisfied: accelerate in /Users/yikaiyang/.asdf/installs/python/3.11.2/lib/python3.11/site-packages (1.2.0)\n",
      "Requirement already satisfied: peft in /Users/yikaiyang/.asdf/installs/python/3.11.2/lib/python3.11/site-packages (0.14.0)\n",
      "Requirement already satisfied: tf-keras in /Users/yikaiyang/.asdf/installs/python/3.11.2/lib/python3.11/site-packages (2.18.0)\n",
      "Requirement already satisfied: filelock in /Users/yikaiyang/.asdf/installs/python/3.11.2/lib/python3.11/site-packages (from transformers) (3.16.1)\n",
      "Requirement already satisfied: huggingface-hub<1.0,>=0.24.0 in /Users/yikaiyang/.asdf/installs/python/3.11.2/lib/python3.11/site-packages (from transformers) (0.26.2)\n",
      "Requirement already satisfied: numpy>=1.17 in /Users/yikaiyang/.asdf/installs/python/3.11.2/lib/python3.11/site-packages (from transformers) (2.0.2)\n",
      "Requirement already satisfied: packaging>=20.0 in /Users/yikaiyang/.asdf/installs/python/3.11.2/lib/python3.11/site-packages (from transformers) (24.2)\n",
      "Requirement already satisfied: pyyaml>=5.1 in /Users/yikaiyang/.asdf/installs/python/3.11.2/lib/python3.11/site-packages (from transformers) (6.0.2)\n",
      "Requirement already satisfied: regex!=2019.12.17 in /Users/yikaiyang/.asdf/installs/python/3.11.2/lib/python3.11/site-packages (from transformers) (2024.11.6)\n",
      "Requirement already satisfied: requests in /Users/yikaiyang/.asdf/installs/python/3.11.2/lib/python3.11/site-packages (from transformers) (2.32.3)\n",
      "Requirement already satisfied: tokenizers<0.22,>=0.21 in /Users/yikaiyang/.asdf/installs/python/3.11.2/lib/python3.11/site-packages (from transformers) (0.21.0)\n",
      "Requirement already satisfied: safetensors>=0.4.1 in /Users/yikaiyang/.asdf/installs/python/3.11.2/lib/python3.11/site-packages (from transformers) (0.4.5)\n",
      "Requirement already satisfied: tqdm>=4.27 in /Users/yikaiyang/.asdf/installs/python/3.11.2/lib/python3.11/site-packages (from transformers) (4.67.0)\n",
      "Requirement already satisfied: pyarrow>=12.0.0 in /Users/yikaiyang/.asdf/installs/python/3.11.2/lib/python3.11/site-packages (from datasets) (18.0.0)\n",
      "Requirement already satisfied: pyarrow-hotfix in /Users/yikaiyang/.asdf/installs/python/3.11.2/lib/python3.11/site-packages (from datasets) (0.6)\n",
      "Requirement already satisfied: dill<0.3.9,>=0.3.0 in /Users/yikaiyang/.asdf/installs/python/3.11.2/lib/python3.11/site-packages (from datasets) (0.3.8)\n",
      "Requirement already satisfied: pandas in /Users/yikaiyang/.asdf/installs/python/3.11.2/lib/python3.11/site-packages (from datasets) (2.2.3)\n",
      "Requirement already satisfied: xxhash in /Users/yikaiyang/.asdf/installs/python/3.11.2/lib/python3.11/site-packages (from datasets) (3.5.0)\n",
      "Requirement already satisfied: multiprocess in /Users/yikaiyang/.asdf/installs/python/3.11.2/lib/python3.11/site-packages (from datasets) (0.70.16)\n",
      "Requirement already satisfied: fsspec[http]<=2024.2.0,>=2023.1.0 in /Users/yikaiyang/.asdf/installs/python/3.11.2/lib/python3.11/site-packages (from datasets) (2024.2.0)\n",
      "Requirement already satisfied: aiohttp in /Users/yikaiyang/.asdf/installs/python/3.11.2/lib/python3.11/site-packages (from datasets) (3.11.2)\n",
      "Requirement already satisfied: psutil in /Users/yikaiyang/.local/lib/python3.11/site-packages (from accelerate) (6.1.0)\n",
      "Requirement already satisfied: torch>=1.10.0 in /Users/yikaiyang/.asdf/installs/python/3.11.2/lib/python3.11/site-packages (from accelerate) (2.5.0)\n",
      "Requirement already satisfied: tensorflow<2.19,>=2.18 in /Users/yikaiyang/.asdf/installs/python/3.11.2/lib/python3.11/site-packages (from tf-keras) (2.18.0)\n",
      "Requirement already satisfied: aiohappyeyeballs>=2.3.0 in /Users/yikaiyang/.asdf/installs/python/3.11.2/lib/python3.11/site-packages (from aiohttp->datasets) (2.4.3)\n",
      "Requirement already satisfied: aiosignal>=1.1.2 in /Users/yikaiyang/.asdf/installs/python/3.11.2/lib/python3.11/site-packages (from aiohttp->datasets) (1.3.1)\n",
      "Requirement already satisfied: attrs>=17.3.0 in /Users/yikaiyang/.asdf/installs/python/3.11.2/lib/python3.11/site-packages (from aiohttp->datasets) (24.2.0)\n",
      "Requirement already satisfied: frozenlist>=1.1.1 in /Users/yikaiyang/.asdf/installs/python/3.11.2/lib/python3.11/site-packages (from aiohttp->datasets) (1.5.0)\n",
      "Requirement already satisfied: multidict<7.0,>=4.5 in /Users/yikaiyang/.asdf/installs/python/3.11.2/lib/python3.11/site-packages (from aiohttp->datasets) (6.1.0)\n",
      "Requirement already satisfied: propcache>=0.2.0 in /Users/yikaiyang/.asdf/installs/python/3.11.2/lib/python3.11/site-packages (from aiohttp->datasets) (0.2.0)\n",
      "Requirement already satisfied: yarl<2.0,>=1.17.0 in /Users/yikaiyang/.asdf/installs/python/3.11.2/lib/python3.11/site-packages (from aiohttp->datasets) (1.17.1)\n",
      "Requirement already satisfied: typing-extensions>=3.7.4.3 in /Users/yikaiyang/.asdf/installs/python/3.11.2/lib/python3.11/site-packages (from huggingface-hub<1.0,>=0.24.0->transformers) (4.12.2)\n",
      "Requirement already satisfied: charset-normalizer<4,>=2 in /Users/yikaiyang/.asdf/installs/python/3.11.2/lib/python3.11/site-packages (from requests->transformers) (3.4.0)\n",
      "Requirement already satisfied: idna<4,>=2.5 in /Users/yikaiyang/.asdf/installs/python/3.11.2/lib/python3.11/site-packages (from requests->transformers) (3.10)\n",
      "Requirement already satisfied: urllib3<3,>=1.21.1 in /Users/yikaiyang/.asdf/installs/python/3.11.2/lib/python3.11/site-packages (from requests->transformers) (2.2.3)\n",
      "Requirement already satisfied: certifi>=2017.4.17 in /Users/yikaiyang/.asdf/installs/python/3.11.2/lib/python3.11/site-packages (from requests->transformers) (2024.8.30)\n",
      "Requirement already satisfied: absl-py>=1.0.0 in /Users/yikaiyang/.asdf/installs/python/3.11.2/lib/python3.11/site-packages (from tensorflow<2.19,>=2.18->tf-keras) (2.1.0)\n",
      "Requirement already satisfied: astunparse>=1.6.0 in /Users/yikaiyang/.asdf/installs/python/3.11.2/lib/python3.11/site-packages (from tensorflow<2.19,>=2.18->tf-keras) (1.6.3)\n",
      "Requirement already satisfied: flatbuffers>=24.3.25 in /Users/yikaiyang/.asdf/installs/python/3.11.2/lib/python3.11/site-packages (from tensorflow<2.19,>=2.18->tf-keras) (24.3.25)\n",
      "Requirement already satisfied: gast!=0.5.0,!=0.5.1,!=0.5.2,>=0.2.1 in /Users/yikaiyang/.asdf/installs/python/3.11.2/lib/python3.11/site-packages (from tensorflow<2.19,>=2.18->tf-keras) (0.6.0)\n",
      "Requirement already satisfied: google-pasta>=0.1.1 in /Users/yikaiyang/.asdf/installs/python/3.11.2/lib/python3.11/site-packages (from tensorflow<2.19,>=2.18->tf-keras) (0.2.0)\n",
      "Requirement already satisfied: libclang>=13.0.0 in /Users/yikaiyang/.asdf/installs/python/3.11.2/lib/python3.11/site-packages (from tensorflow<2.19,>=2.18->tf-keras) (18.1.1)\n",
      "Requirement already satisfied: opt-einsum>=2.3.2 in /Users/yikaiyang/.asdf/installs/python/3.11.2/lib/python3.11/site-packages (from tensorflow<2.19,>=2.18->tf-keras) (3.4.0)\n",
      "Requirement already satisfied: protobuf!=4.21.0,!=4.21.1,!=4.21.2,!=4.21.3,!=4.21.4,!=4.21.5,<6.0.0dev,>=3.20.3 in /Users/yikaiyang/.asdf/installs/python/3.11.2/lib/python3.11/site-packages (from tensorflow<2.19,>=2.18->tf-keras) (5.29.2)\n",
      "Requirement already satisfied: setuptools in /Users/yikaiyang/.asdf/installs/python/3.11.2/lib/python3.11/site-packages (from tensorflow<2.19,>=2.18->tf-keras) (65.5.0)\n",
      "Requirement already satisfied: six>=1.12.0 in /Users/yikaiyang/.asdf/installs/python/3.11.2/lib/python3.11/site-packages (from tensorflow<2.19,>=2.18->tf-keras) (1.16.0)\n",
      "Requirement already satisfied: termcolor>=1.1.0 in /Users/yikaiyang/.asdf/installs/python/3.11.2/lib/python3.11/site-packages (from tensorflow<2.19,>=2.18->tf-keras) (2.5.0)\n",
      "Requirement already satisfied: wrapt>=1.11.0 in /Users/yikaiyang/.asdf/installs/python/3.11.2/lib/python3.11/site-packages (from tensorflow<2.19,>=2.18->tf-keras) (1.16.0)\n",
      "Requirement already satisfied: grpcio<2.0,>=1.24.3 in /Users/yikaiyang/.asdf/installs/python/3.11.2/lib/python3.11/site-packages (from tensorflow<2.19,>=2.18->tf-keras) (1.68.1)\n",
      "Requirement already satisfied: tensorboard<2.19,>=2.18 in /Users/yikaiyang/.asdf/installs/python/3.11.2/lib/python3.11/site-packages (from tensorflow<2.19,>=2.18->tf-keras) (2.18.0)\n",
      "Requirement already satisfied: keras>=3.5.0 in /Users/yikaiyang/.asdf/installs/python/3.11.2/lib/python3.11/site-packages (from tensorflow<2.19,>=2.18->tf-keras) (3.7.0)\n",
      "Requirement already satisfied: h5py>=3.11.0 in /Users/yikaiyang/.asdf/installs/python/3.11.2/lib/python3.11/site-packages (from tensorflow<2.19,>=2.18->tf-keras) (3.12.1)\n",
      "Requirement already satisfied: ml-dtypes<0.5.0,>=0.4.0 in /Users/yikaiyang/.asdf/installs/python/3.11.2/lib/python3.11/site-packages (from tensorflow<2.19,>=2.18->tf-keras) (0.4.1)\n",
      "Requirement already satisfied: tensorflow-io-gcs-filesystem>=0.23.1 in /Users/yikaiyang/.asdf/installs/python/3.11.2/lib/python3.11/site-packages (from tensorflow<2.19,>=2.18->tf-keras) (0.37.1)\n",
      "Requirement already satisfied: networkx in /Users/yikaiyang/.asdf/installs/python/3.11.2/lib/python3.11/site-packages (from torch>=1.10.0->accelerate) (3.4.2)\n",
      "Requirement already satisfied: jinja2 in /Users/yikaiyang/.asdf/installs/python/3.11.2/lib/python3.11/site-packages (from torch>=1.10.0->accelerate) (3.1.4)\n",
      "Requirement already satisfied: sympy==1.13.1 in /Users/yikaiyang/.asdf/installs/python/3.11.2/lib/python3.11/site-packages (from torch>=1.10.0->accelerate) (1.13.1)\n",
      "Requirement already satisfied: mpmath<1.4,>=1.1.0 in /Users/yikaiyang/.asdf/installs/python/3.11.2/lib/python3.11/site-packages (from sympy==1.13.1->torch>=1.10.0->accelerate) (1.3.0)\n",
      "Requirement already satisfied: python-dateutil>=2.8.2 in /Users/yikaiyang/.asdf/installs/python/3.11.2/lib/python3.11/site-packages (from pandas->datasets) (2.9.0.post0)\n",
      "Requirement already satisfied: pytz>=2020.1 in /Users/yikaiyang/.asdf/installs/python/3.11.2/lib/python3.11/site-packages (from pandas->datasets) (2024.2)\n",
      "Requirement already satisfied: tzdata>=2022.7 in /Users/yikaiyang/.asdf/installs/python/3.11.2/lib/python3.11/site-packages (from pandas->datasets) (2024.2)\n",
      "Requirement already satisfied: wheel<1.0,>=0.23.0 in /Users/yikaiyang/.asdf/installs/python/3.11.2/lib/python3.11/site-packages (from astunparse>=1.6.0->tensorflow<2.19,>=2.18->tf-keras) (0.45.1)\n",
      "Requirement already satisfied: rich in /Users/yikaiyang/.asdf/installs/python/3.11.2/lib/python3.11/site-packages (from keras>=3.5.0->tensorflow<2.19,>=2.18->tf-keras) (13.9.4)\n",
      "Requirement already satisfied: namex in /Users/yikaiyang/.asdf/installs/python/3.11.2/lib/python3.11/site-packages (from keras>=3.5.0->tensorflow<2.19,>=2.18->tf-keras) (0.0.8)\n",
      "Requirement already satisfied: optree in /Users/yikaiyang/.asdf/installs/python/3.11.2/lib/python3.11/site-packages (from keras>=3.5.0->tensorflow<2.19,>=2.18->tf-keras) (0.13.1)\n",
      "Requirement already satisfied: markdown>=2.6.8 in /Users/yikaiyang/.asdf/installs/python/3.11.2/lib/python3.11/site-packages (from tensorboard<2.19,>=2.18->tensorflow<2.19,>=2.18->tf-keras) (3.7)\n",
      "Requirement already satisfied: tensorboard-data-server<0.8.0,>=0.7.0 in /Users/yikaiyang/.asdf/installs/python/3.11.2/lib/python3.11/site-packages (from tensorboard<2.19,>=2.18->tensorflow<2.19,>=2.18->tf-keras) (0.7.2)\n",
      "Requirement already satisfied: werkzeug>=1.0.1 in /Users/yikaiyang/.asdf/installs/python/3.11.2/lib/python3.11/site-packages (from tensorboard<2.19,>=2.18->tensorflow<2.19,>=2.18->tf-keras) (3.1.3)\n",
      "Requirement already satisfied: MarkupSafe>=2.0 in /Users/yikaiyang/.asdf/installs/python/3.11.2/lib/python3.11/site-packages (from jinja2->torch>=1.10.0->accelerate) (3.0.2)\n",
      "Requirement already satisfied: markdown-it-py>=2.2.0 in /Users/yikaiyang/.asdf/installs/python/3.11.2/lib/python3.11/site-packages (from rich->keras>=3.5.0->tensorflow<2.19,>=2.18->tf-keras) (3.0.0)\n",
      "Requirement already satisfied: pygments<3.0.0,>=2.13.0 in /Users/yikaiyang/.local/lib/python3.11/site-packages (from rich->keras>=3.5.0->tensorflow<2.19,>=2.18->tf-keras) (2.18.0)\n",
      "Requirement already satisfied: mdurl~=0.1 in /Users/yikaiyang/.asdf/installs/python/3.11.2/lib/python3.11/site-packages (from markdown-it-py>=2.2.0->rich->keras>=3.5.0->tensorflow<2.19,>=2.18->tf-keras) (0.1.2)\n",
      "\n",
      "\u001b[1m[\u001b[0m\u001b[34;49mnotice\u001b[0m\u001b[1;39;49m]\u001b[0m\u001b[39;49m A new release of pip available: \u001b[0m\u001b[31;49m22.3.1\u001b[0m\u001b[39;49m -> \u001b[0m\u001b[32;49m24.3.1\u001b[0m\n",
      "\u001b[1m[\u001b[0m\u001b[34;49mnotice\u001b[0m\u001b[1;39;49m]\u001b[0m\u001b[39;49m To update, run: \u001b[0m\u001b[32;49mpip3 install --upgrade pip\u001b[0m\n",
      "Note: you may need to restart the kernel to use updated packages.\n"
     ]
    }
   ],
   "source": [
    "%pip install transformers datasets evaluate accelerate peft tf-keras\n"
   ]
  },
  {
   "cell_type": "markdown",
   "metadata": {
    "id": "PcNPjzOwVtQa"
   },
   "source": [
    "# RoBERTa Base"
   ]
  },
  {
   "cell_type": "code",
   "execution_count": 4,
   "metadata": {
    "colab": {
     "base_uri": "https://localhost:8080/"
    },
    "id": "uKcinbqZVtQa",
    "outputId": "7fff81c6-8bf2-4b67-f383-217cd7b11db5"
   },
   "outputs": [
    {
     "name": "stdout",
     "output_type": "stream",
     "text": [
      "mps\n"
     ]
    }
   ],
   "source": [
    "from transformers import AutoTokenizer, AutoModelForSequenceClassification, Trainer, TrainingArguments, DataCollatorForLanguageModeling\n",
    "from datasets import load_dataset, concatenate_datasets\n",
    "import torch\n",
    "import random\n",
    "import numpy as np\n",
    "from peft import LoraModel, LoraConfig\n",
    "from evaluate import load\n",
    "import math\n",
    "\n",
    "if torch.backends.mps.is_available():\n",
    "    device = torch.device(\"mps\")\n",
    "elif torch.cuda.is_available():\n",
    "    device = torch.device('cuda')\n",
    "else:\n",
    "    device = torch.device('cpu')\n",
    "print(device)"
   ]
  },
  {
   "cell_type": "code",
   "execution_count": 11,
   "metadata": {
    "id": "ZJUtx139VtQb"
   },
   "outputs": [],
   "source": [
    "seed = 0\n",
    "def set_seed(seed: int):\n",
    "    # Set seed for Python's random module\n",
    "    random.seed(seed)\n",
    "\n",
    "    # Set seed for NumPy\n",
    "    np.random.seed(seed)\n",
    "\n",
    "    # Set seed for PyTorch\n",
    "    torch.manual_seed(seed)\n",
    "\n",
    "    # Set seed for CUDA (if using)\n",
    "    if torch.cuda.is_available():\n",
    "        torch.cuda.manual_seed(seed)\n",
    "        torch.cuda.manual_seed_all(seed)  # For multi-GPU setups\n",
    "\n",
    "    # Make PyTorch deterministic (this can slow down the computation)\n",
    "    torch.backends.cudnn.deterministic = True\n",
    "    torch.backends.cudnn.benchmark = False\n",
    "\n",
    "# Example of usage\n",
    "set_seed(seed)\n"
   ]
  },
  {
   "cell_type": "code",
   "execution_count": 5,
   "metadata": {
    "colab": {
     "base_uri": "https://localhost:8080/"
    },
    "id": "WT1qMnoXVtQb",
    "outputId": "24815354-6757-46ce-a266-ad0331235d0a"
   },
   "outputs": [
    {
     "name": "stderr",
     "output_type": "stream",
     "text": [
      "Downloading data: 100%|██████████| 251k/251k [00:00<00:00, 285kB/s]\n",
      "Downloading data: 100%|██████████| 37.6k/37.6k [00:00<00:00, 60.7kB/s]\n",
      "Downloading data: 100%|██████████| 37.7k/37.7k [00:00<00:00, 66.5kB/s]\n"
     ]
    },
    {
     "data": {
      "application/vnd.jupyter.widget-view+json": {
       "model_id": "97be3a20e9d44135a20b29f2fe527fbb",
       "version_major": 2,
       "version_minor": 0
      },
      "text/plain": [
       "Generating train split:   0%|          | 0/8551 [00:00<?, ? examples/s]"
      ]
     },
     "metadata": {},
     "output_type": "display_data"
    },
    {
     "data": {
      "application/vnd.jupyter.widget-view+json": {
       "model_id": "6572d8173e3642a4868d161562764ce0",
       "version_major": 2,
       "version_minor": 0
      },
      "text/plain": [
       "Generating validation split:   0%|          | 0/1043 [00:00<?, ? examples/s]"
      ]
     },
     "metadata": {},
     "output_type": "display_data"
    },
    {
     "data": {
      "application/vnd.jupyter.widget-view+json": {
       "model_id": "f3ddd6d0a18c4e95a596718df755f180",
       "version_major": 2,
       "version_minor": 0
      },
      "text/plain": [
       "Generating test split:   0%|          | 0/1063 [00:00<?, ? examples/s]"
      ]
     },
     "metadata": {},
     "output_type": "display_data"
    }
   ],
   "source": [
    "dataset = load_dataset(\"glue\", \"cola\")"
   ]
  },
  {
   "cell_type": "code",
   "execution_count": 8,
   "metadata": {
    "id": "EVAc9xqGVtQb",
    "outputId": "4d5b6e73-fbd9-4f4d-d2ae-5580ccfad1e4"
   },
   "outputs": [
    {
     "data": {
      "text/plain": [
       "Dataset({\n",
       "    features: ['sentence', 'label', 'idx'],\n",
       "    num_rows: 8551\n",
       "})"
      ]
     },
     "execution_count": 8,
     "metadata": {},
     "output_type": "execute_result"
    }
   ],
   "source": [
    "dataset['train']"
   ]
  },
  {
   "cell_type": "markdown",
   "metadata": {
    "id": "qreN2Y9cW26O"
   },
   "source": [
    "### Test set contains unlabeled data (-1). Hence, we will need to redo the trainig/evaluation/test split"
   ]
  },
  {
   "cell_type": "code",
   "execution_count": 9,
   "metadata": {
    "colab": {
     "base_uri": "https://localhost:8080/"
    },
    "id": "dq-2ZXAHW26P",
    "outputId": "102b3857-66ad-4137-dcdb-8645e2bc9d63"
   },
   "outputs": [
    {
     "name": "stdout",
     "output_type": "stream",
     "text": [
      "Labels in the training set: {0, 1}\n",
      "Labels in the evaluation set: {0, 1}\n",
      "Labels in the test set: {-1}\n"
     ]
    }
   ],
   "source": [
    "print(f\"Labels in the training set: {set(dataset['train']['label'])}\")\n",
    "print(f\"Labels in the evaluation set: {set(dataset['validation']['label'])}\")\n",
    "print(f\"Labels in the test set: {set(dataset['test']['label'])}\")"
   ]
  },
  {
   "cell_type": "markdown",
   "metadata": {
    "id": "COyhZmEmW26P"
   },
   "source": [
    "### Combine validation / test sets"
   ]
  },
  {
   "cell_type": "code",
   "execution_count": 12,
   "metadata": {
    "id": "n2ZhicUAW26P"
   },
   "outputs": [
    {
     "name": "stdout",
     "output_type": "stream",
     "text": [
      "Labels in the test set after processing: {0, 1}\n"
     ]
    }
   ],
   "source": [
    "#combined_test_set = concatenate_datasets([dataset['test_matched'], dataset['test_mismatched']])\n",
    "\n",
    "merged_dataset = concatenate_datasets([dataset['validation'], dataset['train']])\n",
    "\n",
    "# Split into 80% train and 20% temp (for test + validation)\n",
    "temp_split = merged_dataset.train_test_split(test_size=0.2, seed=seed)\n",
    "train_dataset = temp_split[\"train\"]\n",
    "temp_dataset = temp_split[\"test\"]\n",
    "\n",
    "# Further split temp into 50% test and 50% validation\n",
    "test_eval_split = temp_dataset.train_test_split(test_size=0.5, seed=seed)\n",
    "test_dataset = test_eval_split[\"train\"]\n",
    "eval_dataset = test_eval_split[\"test\"]\n",
    "\n",
    "\n",
    "print(f\"Labels in the test set after processing: {set(test_dataset['label'])}\")"
   ]
  },
  {
   "cell_type": "markdown",
   "metadata": {
    "id": "ZOfSIsFqW26Q"
   },
   "source": [
    "### Split: 80% Training data / 10% Evaluation / 10% Test"
   ]
  },
  {
   "cell_type": "code",
   "execution_count": 13,
   "metadata": {
    "colab": {
     "base_uri": "https://localhost:8080/"
    },
    "id": "Eg39Txj-VtQc",
    "outputId": "a8ec1c10-d6a2-4454-d1c4-9b7e9b22d372"
   },
   "outputs": [
    {
     "name": "stderr",
     "output_type": "stream",
     "text": [
      "Some weights of RobertaForSequenceClassification were not initialized from the model checkpoint at roberta-base and are newly initialized: ['classifier.dense.bias', 'classifier.dense.weight', 'classifier.out_proj.bias', 'classifier.out_proj.weight']\n",
      "You should probably TRAIN this model on a down-stream task to be able to use it for predictions and inference.\n"
     ]
    },
    {
     "name": "stdout",
     "output_type": "stream",
     "text": [
      "2\n"
     ]
    }
   ],
   "source": [
    "# Load Roberta Base\n",
    "model_name = \"roberta-base\"\n",
    "tokenizer = AutoTokenizer.from_pretrained(model_name)\n",
    "num_labels = len(set(dataset['train']['label']))\n",
    "model = AutoModelForSequenceClassification.from_pretrained(model_name, num_labels=num_labels)\n",
    "print(num_labels)\n"
   ]
  },
  {
   "cell_type": "code",
   "execution_count": 23,
   "metadata": {
    "id": "1YO5LqUmW26R"
   },
   "outputs": [],
   "source": [
    "parameters = {\n",
    "    \"output_folder\": 'cola',\n",
    "    \"sequence_length\": 512,\n",
    "    \"epochs\": 30,\n",
    "    \"batch_size\": 16,\n",
    "    \"learning_rate\": 5e-4,\n",
    "    \"weight_decay\": 0.00,\n",
    "    \"warmup_ratio\": 0.06,\n",
    "    \"optimizer\": 'adamw_torch',\n",
    "    \"lora_alpha\": 8,\n",
    "    \"lora_rank\": 8,\n",
    "    \"lora_target_modules\": [\"query\", \"key\", \"value\"],\n",
    "    \"lora_drop_out\": 0.0\n",
    "}\n"
   ]
  },
  {
   "cell_type": "code",
   "execution_count": 24,
   "metadata": {
    "id": "vMjeXN6tW26R"
   },
   "outputs": [],
   "source": [
    "# Load \"lora-fied\" model\n",
    "target_modules = [\"query\", \"key\", \"value\"]\n",
    "config = LoraConfig(\n",
    "    task_type=\"SEQ_CLS\",\n",
    "    r=parameters[\"lora_rank\"],\n",
    "    lora_alpha=parameters[\"lora_alpha\"],\n",
    "    target_modules=parameters[\"lora_target_modules\"],\n",
    "    lora_dropout=parameters[\"lora_drop_out\"],\n",
    "    init_lora_weights=True\n",
    ")\n",
    "#lora_model = LoraModel(model, config, \"default\")\n",
    "\n",
    "from peft import  get_peft_model\n",
    "peft_model = get_peft_model(model, config)"
   ]
  },
  {
   "cell_type": "markdown",
   "metadata": {
    "id": "g10D4iydW26R"
   },
   "source": [
    "### We report the overall (matched and mismatched) accuracy for MNLI, Matthew’s correlation for CoLA, Pearson correlation for STS-B, and accuracy for other tasks."
   ]
  },
  {
   "cell_type": "code",
   "execution_count": 14,
   "metadata": {
    "colab": {
     "base_uri": "https://localhost:8080/"
    },
    "id": "wgG5RlYrasHS",
    "outputId": "240301e6-0916-42cf-8a02-e57106f15ad5"
   },
   "outputs": [
    {
     "data": {
      "text/plain": [
       "DatasetDict({\n",
       "    train: Dataset({\n",
       "        features: ['idx', 'sentence', 'label'],\n",
       "        num_rows: 67349\n",
       "    })\n",
       "    validation: Dataset({\n",
       "        features: ['idx', 'sentence', 'label'],\n",
       "        num_rows: 872\n",
       "    })\n",
       "    test: Dataset({\n",
       "        features: ['idx', 'sentence', 'label'],\n",
       "        num_rows: 1821\n",
       "    })\n",
       "})"
      ]
     },
     "execution_count": 14,
     "metadata": {},
     "output_type": "execute_result"
    }
   ],
   "source": [
    "dataset"
   ]
  },
  {
   "cell_type": "code",
   "execution_count": 18,
   "metadata": {},
   "outputs": [
    {
     "data": {
      "text/plain": [
       "MemoryMappedTable\n",
       "idx: int32\n",
       "sentence: string\n",
       "label: int64\n",
       "----\n",
       "idx: [[0,1,2,3,4,...,867,868,869,870,871]]\n",
       "sentence: [[\"it 's a charming and often affecting journey . \",\"unflinchingly bleak and desperate \",\"allows us to hope that nolan is poised to embark a major career as a commercial yet inventive filmmaker . \",\"the acting , costumes , music , cinematography and sound are all astounding given the production 's austere locales . \",\"it 's slow -- very , very slow . \",...,\"has all the depth of a wading pool . \",\"a movie with a real anarchic flair . \",\"a subject like this should inspire reaction in its audience ; the pianist does not . \",\"... is an arthritic attempt at directing by callie khouri . \",\"looking aristocratic , luminous yet careworn in jane hamilton 's exemplary costumes , rampling gives a performance that could not be improved upon . ' \"]]\n",
       "label: [[1,0,1,1,0,...,0,1,0,0,1]]"
      ]
     },
     "execution_count": 18,
     "metadata": {},
     "output_type": "execute_result"
    }
   ],
   "source": [
    "dataset['validation'].data"
   ]
  },
  {
   "cell_type": "code",
   "execution_count": 25,
   "metadata": {
    "colab": {
     "base_uri": "https://localhost:8080/",
     "height": 113,
     "referenced_widgets": [
      "8d13035a75c64bfcbb8f19e90662b9bd",
      "3ca4bbd454614878a51a9b9ad63cdd8e",
      "b6287f2ebacf4e02a1095210af023dc1",
      "01257c846fc84b708dbac3ae0c31560f",
      "f44ad90d4ce74c88a542e372d227e1ad",
      "49bca7155fc243438af0bd97bc25dc7b",
      "424340f728d347c9a15ca6147a0d2543",
      "a1a31138e511429b97f3e4d7df7a1198",
      "709c83b0b61243c7901fd09d54e6fe00",
      "6509b074663248e38f6e88ab9238b87c",
      "8b6a6dc1b5a8412d8a204703d34df0c8",
      "f77d7fd76af04751a2c72c66ce0f081d",
      "b5c8175bb26244f0bb86525d72659dd9",
      "d6779f7e94984a399b12e226ff0853fa",
      "54965100ef814ac0a2f9e9fa95b8c106",
      "4f4704a140af4c3b92129ae6ef3b64af",
      "adf21d207ce74eff8b9e62294793199f",
      "3ffc502736fd4c9fad3fe4ae11e8f930",
      "2bb98d8af10e4183a45ee24d9636c3e6",
      "f33e51545acd47668b641384f2472376",
      "d0605b31e35d49b0a82ea9be530a7742",
      "92b49fb62c754393aa6130a5a88d4095",
      "a90723218791477597c338f6eec9b25a",
      "88b17ed6fd834bf0ac44cd1ddaa604d3",
      "1e90a27f276145f29f94f7f133664499",
      "3483864bf9b54fb58684314d9250fbb7",
      "355a5438fd764785949b94e7f7fb00c0",
      "727d18d4f1e74e0ca13cadfc43772377",
      "a092d8b93851401381227301706f50f6",
      "fc809f51b03b4bd899b8cc707c30f321",
      "955f3bc960cb42069e6c02671e341032",
      "e6b509cf2fc4429b8d46f7f1356233ff",
      "f2bfdadf314c4cb6b2e1e7db85748339"
     ]
    },
    "id": "CbEA0ac3W26S",
    "outputId": "ad9e2326-85b0-4070-fef1-23a822f51b34",
    "scrolled": true
   },
   "outputs": [
    {
     "data": {
      "application/vnd.jupyter.widget-view+json": {
       "model_id": "30d34555716e4fe2931a4a9e51019cbf",
       "version_major": 2,
       "version_minor": 0
      },
      "text/plain": [
       "Map:   0%|          | 0/8551 [00:00<?, ? examples/s]"
      ]
     },
     "metadata": {},
     "output_type": "display_data"
    },
    {
     "data": {
      "application/vnd.jupyter.widget-view+json": {
       "model_id": "d0d48e026a5b4c87a5157a5a636c16b2",
       "version_major": 2,
       "version_minor": 0
      },
      "text/plain": [
       "Map:   0%|          | 0/1043 [00:00<?, ? examples/s]"
      ]
     },
     "metadata": {},
     "output_type": "display_data"
    },
    {
     "data": {
      "application/vnd.jupyter.widget-view+json": {
       "model_id": "1f443f8dcead47a58ed4f3cf9a164031",
       "version_major": 2,
       "version_minor": 0
      },
      "text/plain": [
       "Map:   0%|          | 0/1063 [00:00<?, ? examples/s]"
      ]
     },
     "metadata": {},
     "output_type": "display_data"
    }
   ],
   "source": [
    "# Tokenize the dataset\n",
    "def preprocess_function(examples):\n",
    "    return tokenizer(examples[\"sentence\"], truncation=True, max_length=parameters['sequence_length'])\n",
    "\n",
    "# Prepare datasets for training\n",
    "\n",
    "# For debug purposes: Load only 1 % of the dataset\n",
    "train_dataset_tokenized = dataset['train'].map(preprocess_function, batched=True).shuffle(seed=seed)\n",
    "eval_dataset_tokenized = dataset['validation'].map(preprocess_function, batched=True).shuffle(seed=seed)\n",
    "test_dataset_tokenized = dataset['test'].map(preprocess_function, batched=True)\n",
    "\n",
    "\n",
    "#train_dataset_tokenized = train_dataset.map(preprocess_function, batched=True).shuffle(seed=seed)\n",
    "#eval_dataset_tokenized = eval_dataset.map(preprocess_function, batched=True).shuffle(seed=seed)\n",
    "#test_dataset_tokenized = test_dataset.map(preprocess_function, batched=True)\n"
   ]
  },
  {
   "cell_type": "markdown",
   "metadata": {
    "id": "dKn3dJq5gDHI"
   },
   "source": []
  },
  {
   "cell_type": "code",
   "execution_count": 26,
   "metadata": {
    "colab": {
     "base_uri": "https://localhost:8080/"
    },
    "id": "zmMaLM7FVtQd",
    "outputId": "1789ca9b-d428-4c7e-c948-a7b25ad17d38"
   },
   "outputs": [
    {
     "name": "stderr",
     "output_type": "stream",
     "text": [
      "/var/folders/95/cqsd5hvd7xl6lhsmdv_177s80000gn/T/ipykernel_71732/140691927.py:31: FutureWarning: `tokenizer` is deprecated and will be removed in version 5.0.0 for `Trainer.__init__`. Use `processing_class` instead.\n",
      "  trainer = Trainer(\n"
     ]
    },
    {
     "data": {
      "application/vnd.jupyter.widget-view+json": {
       "model_id": "906a074fa8b344e284af74e5b312a67a",
       "version_major": 2,
       "version_minor": 0
      },
      "text/plain": [
       "  0%|          | 0/535 [00:00<?, ?it/s]"
      ]
     },
     "metadata": {},
     "output_type": "display_data"
    },
    {
     "name": "stdout",
     "output_type": "stream",
     "text": [
      "{'loss': 0.6906, 'grad_norm': 1.8982750177383423, 'learning_rate': 0.00015151515151515152, 'epoch': 0.02}\n",
      "{'loss': 0.5894, 'grad_norm': 3.2178444862365723, 'learning_rate': 0.00030303030303030303, 'epoch': 0.04}\n",
      "{'loss': 0.6345, 'grad_norm': 1.2707456350326538, 'learning_rate': 0.00045454545454545455, 'epoch': 0.06}\n",
      "{'loss': 0.6086, 'grad_norm': 2.3390276432037354, 'learning_rate': 0.0004930278884462152, 'epoch': 0.07}\n",
      "{'loss': 0.5737, 'grad_norm': 2.2878317832946777, 'learning_rate': 0.00048306772908366535, 'epoch': 0.09}\n",
      "{'loss': 0.6033, 'grad_norm': 1.8391510248184204, 'learning_rate': 0.00047310756972111556, 'epoch': 0.11}\n",
      "{'loss': 0.6369, 'grad_norm': 2.4483203887939453, 'learning_rate': 0.0004631474103585657, 'epoch': 0.13}\n",
      "{'loss': 0.6307, 'grad_norm': 1.8664034605026245, 'learning_rate': 0.00045318725099601593, 'epoch': 0.15}\n",
      "{'loss': 0.6216, 'grad_norm': 4.002045631408691, 'learning_rate': 0.00044322709163346615, 'epoch': 0.17}\n",
      "{'loss': 0.5907, 'grad_norm': 2.3213658332824707, 'learning_rate': 0.00043326693227091636, 'epoch': 0.19}\n",
      "{'loss': 0.5756, 'grad_norm': 0.8142389059066772, 'learning_rate': 0.00042330677290836657, 'epoch': 0.21}\n",
      "{'loss': 0.5609, 'grad_norm': 1.3924810886383057, 'learning_rate': 0.0004133466135458168, 'epoch': 0.22}\n",
      "{'loss': 0.4712, 'grad_norm': 2.260326623916626, 'learning_rate': 0.00040338645418326694, 'epoch': 0.24}\n",
      "{'loss': 0.5131, 'grad_norm': 2.443300724029541, 'learning_rate': 0.0003934262948207171, 'epoch': 0.26}\n",
      "{'loss': 0.5391, 'grad_norm': 2.413978338241577, 'learning_rate': 0.0003834661354581673, 'epoch': 0.28}\n",
      "{'loss': 0.457, 'grad_norm': 1.5997955799102783, 'learning_rate': 0.0003735059760956175, 'epoch': 0.3}\n",
      "{'loss': 0.4578, 'grad_norm': 1.6711252927780151, 'learning_rate': 0.00036354581673306774, 'epoch': 0.32}\n",
      "{'loss': 0.4613, 'grad_norm': 2.378140687942505, 'learning_rate': 0.00035358565737051795, 'epoch': 0.34}\n",
      "{'loss': 0.4406, 'grad_norm': 2.862229824066162, 'learning_rate': 0.0003436254980079681, 'epoch': 0.36}\n",
      "{'loss': 0.5432, 'grad_norm': 1.4490994215011597, 'learning_rate': 0.0003336653386454183, 'epoch': 0.37}\n",
      "{'loss': 0.4592, 'grad_norm': 1.7298663854599, 'learning_rate': 0.00032370517928286853, 'epoch': 0.39}\n",
      "{'loss': 0.5065, 'grad_norm': 2.499718189239502, 'learning_rate': 0.00031374501992031874, 'epoch': 0.41}\n",
      "{'loss': 0.4645, 'grad_norm': 1.3775867223739624, 'learning_rate': 0.00030378486055776896, 'epoch': 0.43}\n",
      "{'loss': 0.4651, 'grad_norm': 4.814220905303955, 'learning_rate': 0.00029382470119521917, 'epoch': 0.45}\n",
      "{'loss': 0.4716, 'grad_norm': 1.573550820350647, 'learning_rate': 0.0002838645418326694, 'epoch': 0.47}\n",
      "{'loss': 0.5735, 'grad_norm': 2.3216495513916016, 'learning_rate': 0.0002739043824701195, 'epoch': 0.49}\n",
      "{'loss': 0.5196, 'grad_norm': 0.9808811545372009, 'learning_rate': 0.0002639442231075697, 'epoch': 0.5}\n",
      "{'loss': 0.4625, 'grad_norm': 2.565174102783203, 'learning_rate': 0.0002539840637450199, 'epoch': 0.52}\n",
      "{'loss': 0.4534, 'grad_norm': 3.2762246131896973, 'learning_rate': 0.00024402390438247012, 'epoch': 0.54}\n",
      "{'loss': 0.473, 'grad_norm': 0.9238876700401306, 'learning_rate': 0.0002340637450199203, 'epoch': 0.56}\n",
      "{'loss': 0.4557, 'grad_norm': 3.161020278930664, 'learning_rate': 0.00022410358565737052, 'epoch': 0.58}\n",
      "{'loss': 0.4343, 'grad_norm': 1.9776805639266968, 'learning_rate': 0.00021414342629482073, 'epoch': 0.6}\n",
      "{'loss': 0.4737, 'grad_norm': 2.5985777378082275, 'learning_rate': 0.00020418326693227094, 'epoch': 0.62}\n",
      "{'loss': 0.4374, 'grad_norm': 2.4799656867980957, 'learning_rate': 0.0001942231075697211, 'epoch': 0.64}\n",
      "{'loss': 0.4353, 'grad_norm': 1.5391619205474854, 'learning_rate': 0.00018426294820717131, 'epoch': 0.65}\n",
      "{'loss': 0.4931, 'grad_norm': 1.8794513940811157, 'learning_rate': 0.00017430278884462153, 'epoch': 0.67}\n",
      "{'loss': 0.3856, 'grad_norm': 1.936968445777893, 'learning_rate': 0.0001643426294820717, 'epoch': 0.69}\n",
      "{'loss': 0.4266, 'grad_norm': 4.018721580505371, 'learning_rate': 0.00015438247011952192, 'epoch': 0.71}\n",
      "{'loss': 0.4551, 'grad_norm': 3.6515185832977295, 'learning_rate': 0.00014442231075697214, 'epoch': 0.73}\n",
      "{'loss': 0.4145, 'grad_norm': 1.6424108743667603, 'learning_rate': 0.0001344621513944223, 'epoch': 0.75}\n",
      "{'loss': 0.4098, 'grad_norm': 1.1428446769714355, 'learning_rate': 0.0001245019920318725, 'epoch': 0.77}\n",
      "{'loss': 0.4254, 'grad_norm': 1.9317923784255981, 'learning_rate': 0.0001145418326693227, 'epoch': 0.79}\n",
      "{'loss': 0.5171, 'grad_norm': 4.31594181060791, 'learning_rate': 0.00010458167330677292, 'epoch': 0.8}\n",
      "{'loss': 0.4179, 'grad_norm': 1.4553776979446411, 'learning_rate': 9.46215139442231e-05, 'epoch': 0.82}\n",
      "{'loss': 0.4967, 'grad_norm': 2.4654765129089355, 'learning_rate': 8.46613545816733e-05, 'epoch': 0.84}\n",
      "{'loss': 0.3277, 'grad_norm': 1.6396973133087158, 'learning_rate': 7.470119521912352e-05, 'epoch': 0.86}\n",
      "{'loss': 0.3453, 'grad_norm': 1.7611360549926758, 'learning_rate': 6.47410358565737e-05, 'epoch': 0.88}\n",
      "{'loss': 0.3643, 'grad_norm': 1.1370872259140015, 'learning_rate': 5.4780876494023906e-05, 'epoch': 0.9}\n",
      "{'loss': 0.4572, 'grad_norm': 4.365478038787842, 'learning_rate': 4.4820717131474105e-05, 'epoch': 0.92}\n",
      "{'loss': 0.4882, 'grad_norm': 4.126938819885254, 'learning_rate': 3.48605577689243e-05, 'epoch': 0.93}\n",
      "{'loss': 0.3981, 'grad_norm': 3.2750632762908936, 'learning_rate': 2.49003984063745e-05, 'epoch': 0.95}\n",
      "{'loss': 0.4358, 'grad_norm': 2.756434917449951, 'learning_rate': 1.4940239043824702e-05, 'epoch': 0.97}\n",
      "{'loss': 0.4497, 'grad_norm': 1.5753264427185059, 'learning_rate': 4.980079681274901e-06, 'epoch': 0.99}\n"
     ]
    },
    {
     "data": {
      "application/vnd.jupyter.widget-view+json": {
       "model_id": "d9fbac6f20e2487ca955acfbe0d96509",
       "version_major": 2,
       "version_minor": 0
      },
      "text/plain": [
       "  0%|          | 0/66 [00:00<?, ?it/s]"
      ]
     },
     "metadata": {},
     "output_type": "display_data"
    },
    {
     "name": "stdout",
     "output_type": "stream",
     "text": [
      "{'eval_loss': 0.45087283849716187, 'eval_matthews_correlation': 0.5293023756875906, 'eval_runtime': 11.3364, 'eval_samples_per_second': 92.004, 'eval_steps_per_second': 5.822, 'epoch': 1.0}\n",
      "{'train_runtime': 174.896, 'train_samples_per_second': 48.892, 'train_steps_per_second': 3.059, 'train_loss': 0.49023019175663174, 'epoch': 1.0}\n"
     ]
    }
   ],
   "source": [
    "# Define training arguments\n",
    "training_args = TrainingArguments(\n",
    "    output_dir=f\"./{parameters['output_folder']}/results\",  # Directory to save model checkpoints\n",
    "    evaluation_strategy=\"epoch\",\n",
    "    learning_rate=parameters['learning_rate'],\n",
    "    per_device_train_batch_size=parameters['batch_size'],\n",
    "    per_device_eval_batch_size=parameters['batch_size'],\n",
    "    num_train_epochs=parameters['epochs'],\n",
    "    weight_decay=parameters['weight_decay'],\n",
    "    save_strategy=\"epoch\",\n",
    "    logging_dir=f\"./{parameters['output_folder']}/logs\",\n",
    "    logging_steps=10,\n",
    "    optim=parameters['optimizer'],\n",
    "    load_best_model_at_end=True,\n",
    "    report_to=\"none\",\n",
    "    warmup_ratio=parameters['warmup_ratio'],\n",
    ")\n",
    "\n",
    "# Accuracy metric\n",
    "#accuracy_metric = load('accuracy')\n",
    "\n",
    "# Matthews correlation metric\n",
    "metric = load(\"matthews_correlation\")\n",
    "\n",
    "def compute_metric(p):\n",
    "    preds = p.predictions.argmax(axis=1)\n",
    "    labels = p.label_ids\n",
    "    return metric.compute(predictions=preds, references=labels)\n",
    "\n",
    "# Define the trainer\n",
    "trainer = Trainer(\n",
    "    model=peft_model,\n",
    "    args=training_args,\n",
    "    train_dataset=train_dataset_tokenized,\n",
    "    eval_dataset=eval_dataset_tokenized,\n",
    "    tokenizer=tokenizer,\n",
    "    compute_metrics=compute_metric\n",
    ")\n",
    "\n",
    "# Train the model\n",
    "#trainer.train(resume_from_checkpoint=True)\n",
    "trainer.train()\n",
    "\n",
    "\n",
    "# Save model\n",
    "trainer.save_model(f\"./{parameters['output_folder']}/model\")"
   ]
  },
  {
   "cell_type": "code",
   "execution_count": 28,
   "metadata": {
    "id": "v_jnB8x7W26S",
    "outputId": "d3fbd8c2-5f41-4e2a-e5c8-e6f79ea391f9"
   },
   "outputs": [
    {
     "data": {
      "application/vnd.jupyter.widget-view+json": {
       "model_id": "4fe9b19cf33643a6b11efa76722d1619",
       "version_major": 2,
       "version_minor": 0
      },
      "text/plain": [
       "  0%|          | 0/66 [00:00<?, ?it/s]"
      ]
     },
     "metadata": {},
     "output_type": "display_data"
    },
    {
     "name": "stdout",
     "output_type": "stream",
     "text": [
      "{'eval_loss': 0.45087283849716187, 'eval_matthews_correlation': 0.5293023756875906, 'eval_runtime': 13.4779, 'eval_samples_per_second': 77.386, 'eval_steps_per_second': 4.897, 'epoch': 1.0}\n"
     ]
    }
   ],
   "source": [
    "# Evaluate model\n",
    "results = trainer.evaluate()\n",
    "print(results)"
   ]
  },
  {
   "cell_type": "code",
   "execution_count": 29,
   "metadata": {
    "colab": {
     "referenced_widgets": [
      "d5ef5afc6b42444d9d532e404b6be67d"
     ]
    },
    "id": "lpzbCl0HW26S",
    "outputId": "b9703288-06eb-477c-f561-256a319f6ce0"
   },
   "outputs": [
    {
     "data": {
      "application/vnd.jupyter.widget-view+json": {
       "model_id": "80d43c12f61345509b6f921abaaac606",
       "version_major": 2,
       "version_minor": 0
      },
      "text/plain": [
       "  0%|          | 0/67 [00:00<?, ?it/s]"
      ]
     },
     "metadata": {},
     "output_type": "display_data"
    },
    {
     "data": {
      "text/plain": [
       "{'test_loss': 0.0,\n",
       " 'test_matthews_correlation': 0.0,\n",
       " 'test_runtime': 15.2682,\n",
       " 'test_samples_per_second': 69.622,\n",
       " 'test_steps_per_second': 4.388}"
      ]
     },
     "execution_count": 29,
     "metadata": {},
     "output_type": "execute_result"
    }
   ],
   "source": [
    "# Test set\n",
    "test_set_results = trainer.predict(test_dataset_tokenized)\n",
    "test_set_results.metrics"
   ]
  },
  {
   "cell_type": "code",
   "execution_count": null,
   "metadata": {
    "id": "-LyLl-2gW26T",
    "outputId": "c040a7df-4a10-4214-e180-2a76c7439cc3"
   },
   "outputs": [
    {
     "data": {
      "text/plain": [
       "array([1, 1, 1, ..., 1, 1, 1])"
      ]
     },
     "execution_count": 17,
     "metadata": {},
     "output_type": "execute_result"
    }
   ],
   "source": [
    "test_set_results.predictions.argmax(axis=1)"
   ]
  },
  {
   "cell_type": "code",
   "execution_count": null,
   "metadata": {
    "id": "CxgqQU6hW26T",
    "outputId": "20ec3e9e-8fcf-4d81-a2e8-a02892d5d7cb"
   },
   "outputs": [
    {
     "data": {
      "text/plain": [
       "array([2, 0, 1, ..., 2, 2, 0])"
      ]
     },
     "execution_count": 18,
     "metadata": {},
     "output_type": "execute_result"
    }
   ],
   "source": [
    "test_set_results.label_ids"
   ]
  },
  {
   "cell_type": "markdown",
   "metadata": {
    "id": "8dM59vXxW26T"
   },
   "source": []
  }
 ],
 "metadata": {
  "accelerator": "GPU",
  "colab": {
   "gpuType": "T4",
   "provenance": []
  },
  "kernelspec": {
   "display_name": "Python 3",
   "language": "python",
   "name": "python3"
  },
  "language_info": {
   "codemirror_mode": {
    "name": "ipython",
    "version": 3
   },
   "file_extension": ".py",
   "mimetype": "text/x-python",
   "name": "python",
   "nbconvert_exporter": "python",
   "pygments_lexer": "ipython3",
   "version": "3.11.2"
  },
  "widgets": {
   "application/vnd.jupyter.widget-state+json": {
    "01257c846fc84b708dbac3ae0c31560f": {
     "model_module": "@jupyter-widgets/controls",
     "model_module_version": "1.5.0",
     "model_name": "HTMLModel",
     "state": {
      "_dom_classes": [],
      "_model_module": "@jupyter-widgets/controls",
      "_model_module_version": "1.5.0",
      "_model_name": "HTMLModel",
      "_view_count": null,
      "_view_module": "@jupyter-widgets/controls",
      "_view_module_version": "1.5.0",
      "_view_name": "HTMLView",
      "description": "",
      "description_tooltip": null,
      "layout": "IPY_MODEL_6509b074663248e38f6e88ab9238b87c",
      "placeholder": "​",
      "style": "IPY_MODEL_8b6a6dc1b5a8412d8a204703d34df0c8",
      "value": " 19636/19636 [00:11&lt;00:00, 1745.81 examples/s]"
     }
    },
    "1e90a27f276145f29f94f7f133664499": {
     "model_module": "@jupyter-widgets/controls",
     "model_module_version": "1.5.0",
     "model_name": "FloatProgressModel",
     "state": {
      "_dom_classes": [],
      "_model_module": "@jupyter-widgets/controls",
      "_model_module_version": "1.5.0",
      "_model_name": "FloatProgressModel",
      "_view_count": null,
      "_view_module": "@jupyter-widgets/controls",
      "_view_module_version": "1.5.0",
      "_view_name": "ProgressView",
      "bar_style": "success",
      "description": "",
      "description_tooltip": null,
      "layout": "IPY_MODEL_fc809f51b03b4bd899b8cc707c30f321",
      "max": 490,
      "min": 0,
      "orientation": "horizontal",
      "style": "IPY_MODEL_955f3bc960cb42069e6c02671e341032",
      "value": 490
     }
    },
    "2bb98d8af10e4183a45ee24d9636c3e6": {
     "model_module": "@jupyter-widgets/base",
     "model_module_version": "1.2.0",
     "model_name": "LayoutModel",
     "state": {
      "_model_module": "@jupyter-widgets/base",
      "_model_module_version": "1.2.0",
      "_model_name": "LayoutModel",
      "_view_count": null,
      "_view_module": "@jupyter-widgets/base",
      "_view_module_version": "1.2.0",
      "_view_name": "LayoutView",
      "align_content": null,
      "align_items": null,
      "align_self": null,
      "border": null,
      "bottom": null,
      "display": null,
      "flex": null,
      "flex_flow": null,
      "grid_area": null,
      "grid_auto_columns": null,
      "grid_auto_flow": null,
      "grid_auto_rows": null,
      "grid_column": null,
      "grid_gap": null,
      "grid_row": null,
      "grid_template_areas": null,
      "grid_template_columns": null,
      "grid_template_rows": null,
      "height": null,
      "justify_content": null,
      "justify_items": null,
      "left": null,
      "margin": null,
      "max_height": null,
      "max_width": null,
      "min_height": null,
      "min_width": null,
      "object_fit": null,
      "object_position": null,
      "order": null,
      "overflow": null,
      "overflow_x": null,
      "overflow_y": null,
      "padding": null,
      "right": null,
      "top": null,
      "visibility": null,
      "width": null
     }
    },
    "3483864bf9b54fb58684314d9250fbb7": {
     "model_module": "@jupyter-widgets/controls",
     "model_module_version": "1.5.0",
     "model_name": "HTMLModel",
     "state": {
      "_dom_classes": [],
      "_model_module": "@jupyter-widgets/controls",
      "_model_module_version": "1.5.0",
      "_model_name": "HTMLModel",
      "_view_count": null,
      "_view_module": "@jupyter-widgets/controls",
      "_view_module_version": "1.5.0",
      "_view_name": "HTMLView",
      "description": "",
      "description_tooltip": null,
      "layout": "IPY_MODEL_e6b509cf2fc4429b8d46f7f1356233ff",
      "placeholder": "​",
      "style": "IPY_MODEL_f2bfdadf314c4cb6b2e1e7db85748339",
      "value": " 490/490 [00:00&lt;00:00, 1622.11 examples/s]"
     }
    },
    "355a5438fd764785949b94e7f7fb00c0": {
     "model_module": "@jupyter-widgets/base",
     "model_module_version": "1.2.0",
     "model_name": "LayoutModel",
     "state": {
      "_model_module": "@jupyter-widgets/base",
      "_model_module_version": "1.2.0",
      "_model_name": "LayoutModel",
      "_view_count": null,
      "_view_module": "@jupyter-widgets/base",
      "_view_module_version": "1.2.0",
      "_view_name": "LayoutView",
      "align_content": null,
      "align_items": null,
      "align_self": null,
      "border": null,
      "bottom": null,
      "display": null,
      "flex": null,
      "flex_flow": null,
      "grid_area": null,
      "grid_auto_columns": null,
      "grid_auto_flow": null,
      "grid_auto_rows": null,
      "grid_column": null,
      "grid_gap": null,
      "grid_row": null,
      "grid_template_areas": null,
      "grid_template_columns": null,
      "grid_template_rows": null,
      "height": null,
      "justify_content": null,
      "justify_items": null,
      "left": null,
      "margin": null,
      "max_height": null,
      "max_width": null,
      "min_height": null,
      "min_width": null,
      "object_fit": null,
      "object_position": null,
      "order": null,
      "overflow": null,
      "overflow_x": null,
      "overflow_y": null,
      "padding": null,
      "right": null,
      "top": null,
      "visibility": null,
      "width": null
     }
    },
    "3ca4bbd454614878a51a9b9ad63cdd8e": {
     "model_module": "@jupyter-widgets/controls",
     "model_module_version": "1.5.0",
     "model_name": "HTMLModel",
     "state": {
      "_dom_classes": [],
      "_model_module": "@jupyter-widgets/controls",
      "_model_module_version": "1.5.0",
      "_model_name": "HTMLModel",
      "_view_count": null,
      "_view_module": "@jupyter-widgets/controls",
      "_view_module_version": "1.5.0",
      "_view_name": "HTMLView",
      "description": "",
      "description_tooltip": null,
      "layout": "IPY_MODEL_49bca7155fc243438af0bd97bc25dc7b",
      "placeholder": "​",
      "style": "IPY_MODEL_424340f728d347c9a15ca6147a0d2543",
      "value": "Map: 100%"
     }
    },
    "3ffc502736fd4c9fad3fe4ae11e8f930": {
     "model_module": "@jupyter-widgets/controls",
     "model_module_version": "1.5.0",
     "model_name": "DescriptionStyleModel",
     "state": {
      "_model_module": "@jupyter-widgets/controls",
      "_model_module_version": "1.5.0",
      "_model_name": "DescriptionStyleModel",
      "_view_count": null,
      "_view_module": "@jupyter-widgets/base",
      "_view_module_version": "1.2.0",
      "_view_name": "StyleView",
      "description_width": ""
     }
    },
    "424340f728d347c9a15ca6147a0d2543": {
     "model_module": "@jupyter-widgets/controls",
     "model_module_version": "1.5.0",
     "model_name": "DescriptionStyleModel",
     "state": {
      "_model_module": "@jupyter-widgets/controls",
      "_model_module_version": "1.5.0",
      "_model_name": "DescriptionStyleModel",
      "_view_count": null,
      "_view_module": "@jupyter-widgets/base",
      "_view_module_version": "1.2.0",
      "_view_name": "StyleView",
      "description_width": ""
     }
    },
    "49bca7155fc243438af0bd97bc25dc7b": {
     "model_module": "@jupyter-widgets/base",
     "model_module_version": "1.2.0",
     "model_name": "LayoutModel",
     "state": {
      "_model_module": "@jupyter-widgets/base",
      "_model_module_version": "1.2.0",
      "_model_name": "LayoutModel",
      "_view_count": null,
      "_view_module": "@jupyter-widgets/base",
      "_view_module_version": "1.2.0",
      "_view_name": "LayoutView",
      "align_content": null,
      "align_items": null,
      "align_self": null,
      "border": null,
      "bottom": null,
      "display": null,
      "flex": null,
      "flex_flow": null,
      "grid_area": null,
      "grid_auto_columns": null,
      "grid_auto_flow": null,
      "grid_auto_rows": null,
      "grid_column": null,
      "grid_gap": null,
      "grid_row": null,
      "grid_template_areas": null,
      "grid_template_columns": null,
      "grid_template_rows": null,
      "height": null,
      "justify_content": null,
      "justify_items": null,
      "left": null,
      "margin": null,
      "max_height": null,
      "max_width": null,
      "min_height": null,
      "min_width": null,
      "object_fit": null,
      "object_position": null,
      "order": null,
      "overflow": null,
      "overflow_x": null,
      "overflow_y": null,
      "padding": null,
      "right": null,
      "top": null,
      "visibility": null,
      "width": null
     }
    },
    "4f4704a140af4c3b92129ae6ef3b64af": {
     "model_module": "@jupyter-widgets/base",
     "model_module_version": "1.2.0",
     "model_name": "LayoutModel",
     "state": {
      "_model_module": "@jupyter-widgets/base",
      "_model_module_version": "1.2.0",
      "_model_name": "LayoutModel",
      "_view_count": null,
      "_view_module": "@jupyter-widgets/base",
      "_view_module_version": "1.2.0",
      "_view_name": "LayoutView",
      "align_content": null,
      "align_items": null,
      "align_self": null,
      "border": null,
      "bottom": null,
      "display": null,
      "flex": null,
      "flex_flow": null,
      "grid_area": null,
      "grid_auto_columns": null,
      "grid_auto_flow": null,
      "grid_auto_rows": null,
      "grid_column": null,
      "grid_gap": null,
      "grid_row": null,
      "grid_template_areas": null,
      "grid_template_columns": null,
      "grid_template_rows": null,
      "height": null,
      "justify_content": null,
      "justify_items": null,
      "left": null,
      "margin": null,
      "max_height": null,
      "max_width": null,
      "min_height": null,
      "min_width": null,
      "object_fit": null,
      "object_position": null,
      "order": null,
      "overflow": null,
      "overflow_x": null,
      "overflow_y": null,
      "padding": null,
      "right": null,
      "top": null,
      "visibility": null,
      "width": null
     }
    },
    "54965100ef814ac0a2f9e9fa95b8c106": {
     "model_module": "@jupyter-widgets/controls",
     "model_module_version": "1.5.0",
     "model_name": "HTMLModel",
     "state": {
      "_dom_classes": [],
      "_model_module": "@jupyter-widgets/controls",
      "_model_module_version": "1.5.0",
      "_model_name": "HTMLModel",
      "_view_count": null,
      "_view_module": "@jupyter-widgets/controls",
      "_view_module_version": "1.5.0",
      "_view_name": "HTMLView",
      "description": "",
      "description_tooltip": null,
      "layout": "IPY_MODEL_d0605b31e35d49b0a82ea9be530a7742",
      "placeholder": "​",
      "style": "IPY_MODEL_92b49fb62c754393aa6130a5a88d4095",
      "value": " 491/491 [00:00&lt;00:00, 1768.80 examples/s]"
     }
    },
    "6509b074663248e38f6e88ab9238b87c": {
     "model_module": "@jupyter-widgets/base",
     "model_module_version": "1.2.0",
     "model_name": "LayoutModel",
     "state": {
      "_model_module": "@jupyter-widgets/base",
      "_model_module_version": "1.2.0",
      "_model_name": "LayoutModel",
      "_view_count": null,
      "_view_module": "@jupyter-widgets/base",
      "_view_module_version": "1.2.0",
      "_view_name": "LayoutView",
      "align_content": null,
      "align_items": null,
      "align_self": null,
      "border": null,
      "bottom": null,
      "display": null,
      "flex": null,
      "flex_flow": null,
      "grid_area": null,
      "grid_auto_columns": null,
      "grid_auto_flow": null,
      "grid_auto_rows": null,
      "grid_column": null,
      "grid_gap": null,
      "grid_row": null,
      "grid_template_areas": null,
      "grid_template_columns": null,
      "grid_template_rows": null,
      "height": null,
      "justify_content": null,
      "justify_items": null,
      "left": null,
      "margin": null,
      "max_height": null,
      "max_width": null,
      "min_height": null,
      "min_width": null,
      "object_fit": null,
      "object_position": null,
      "order": null,
      "overflow": null,
      "overflow_x": null,
      "overflow_y": null,
      "padding": null,
      "right": null,
      "top": null,
      "visibility": null,
      "width": null
     }
    },
    "709c83b0b61243c7901fd09d54e6fe00": {
     "model_module": "@jupyter-widgets/controls",
     "model_module_version": "1.5.0",
     "model_name": "ProgressStyleModel",
     "state": {
      "_model_module": "@jupyter-widgets/controls",
      "_model_module_version": "1.5.0",
      "_model_name": "ProgressStyleModel",
      "_view_count": null,
      "_view_module": "@jupyter-widgets/base",
      "_view_module_version": "1.2.0",
      "_view_name": "StyleView",
      "bar_color": null,
      "description_width": ""
     }
    },
    "727d18d4f1e74e0ca13cadfc43772377": {
     "model_module": "@jupyter-widgets/base",
     "model_module_version": "1.2.0",
     "model_name": "LayoutModel",
     "state": {
      "_model_module": "@jupyter-widgets/base",
      "_model_module_version": "1.2.0",
      "_model_name": "LayoutModel",
      "_view_count": null,
      "_view_module": "@jupyter-widgets/base",
      "_view_module_version": "1.2.0",
      "_view_name": "LayoutView",
      "align_content": null,
      "align_items": null,
      "align_self": null,
      "border": null,
      "bottom": null,
      "display": null,
      "flex": null,
      "flex_flow": null,
      "grid_area": null,
      "grid_auto_columns": null,
      "grid_auto_flow": null,
      "grid_auto_rows": null,
      "grid_column": null,
      "grid_gap": null,
      "grid_row": null,
      "grid_template_areas": null,
      "grid_template_columns": null,
      "grid_template_rows": null,
      "height": null,
      "justify_content": null,
      "justify_items": null,
      "left": null,
      "margin": null,
      "max_height": null,
      "max_width": null,
      "min_height": null,
      "min_width": null,
      "object_fit": null,
      "object_position": null,
      "order": null,
      "overflow": null,
      "overflow_x": null,
      "overflow_y": null,
      "padding": null,
      "right": null,
      "top": null,
      "visibility": null,
      "width": null
     }
    },
    "88b17ed6fd834bf0ac44cd1ddaa604d3": {
     "model_module": "@jupyter-widgets/controls",
     "model_module_version": "1.5.0",
     "model_name": "HTMLModel",
     "state": {
      "_dom_classes": [],
      "_model_module": "@jupyter-widgets/controls",
      "_model_module_version": "1.5.0",
      "_model_name": "HTMLModel",
      "_view_count": null,
      "_view_module": "@jupyter-widgets/controls",
      "_view_module_version": "1.5.0",
      "_view_name": "HTMLView",
      "description": "",
      "description_tooltip": null,
      "layout": "IPY_MODEL_727d18d4f1e74e0ca13cadfc43772377",
      "placeholder": "​",
      "style": "IPY_MODEL_a092d8b93851401381227301706f50f6",
      "value": "Map: 100%"
     }
    },
    "8b6a6dc1b5a8412d8a204703d34df0c8": {
     "model_module": "@jupyter-widgets/controls",
     "model_module_version": "1.5.0",
     "model_name": "DescriptionStyleModel",
     "state": {
      "_model_module": "@jupyter-widgets/controls",
      "_model_module_version": "1.5.0",
      "_model_name": "DescriptionStyleModel",
      "_view_count": null,
      "_view_module": "@jupyter-widgets/base",
      "_view_module_version": "1.2.0",
      "_view_name": "StyleView",
      "description_width": ""
     }
    },
    "8d13035a75c64bfcbb8f19e90662b9bd": {
     "model_module": "@jupyter-widgets/controls",
     "model_module_version": "1.5.0",
     "model_name": "HBoxModel",
     "state": {
      "_dom_classes": [],
      "_model_module": "@jupyter-widgets/controls",
      "_model_module_version": "1.5.0",
      "_model_name": "HBoxModel",
      "_view_count": null,
      "_view_module": "@jupyter-widgets/controls",
      "_view_module_version": "1.5.0",
      "_view_name": "HBoxView",
      "box_style": "",
      "children": [
       "IPY_MODEL_3ca4bbd454614878a51a9b9ad63cdd8e",
       "IPY_MODEL_b6287f2ebacf4e02a1095210af023dc1",
       "IPY_MODEL_01257c846fc84b708dbac3ae0c31560f"
      ],
      "layout": "IPY_MODEL_f44ad90d4ce74c88a542e372d227e1ad"
     }
    },
    "92b49fb62c754393aa6130a5a88d4095": {
     "model_module": "@jupyter-widgets/controls",
     "model_module_version": "1.5.0",
     "model_name": "DescriptionStyleModel",
     "state": {
      "_model_module": "@jupyter-widgets/controls",
      "_model_module_version": "1.5.0",
      "_model_name": "DescriptionStyleModel",
      "_view_count": null,
      "_view_module": "@jupyter-widgets/base",
      "_view_module_version": "1.2.0",
      "_view_name": "StyleView",
      "description_width": ""
     }
    },
    "955f3bc960cb42069e6c02671e341032": {
     "model_module": "@jupyter-widgets/controls",
     "model_module_version": "1.5.0",
     "model_name": "ProgressStyleModel",
     "state": {
      "_model_module": "@jupyter-widgets/controls",
      "_model_module_version": "1.5.0",
      "_model_name": "ProgressStyleModel",
      "_view_count": null,
      "_view_module": "@jupyter-widgets/base",
      "_view_module_version": "1.2.0",
      "_view_name": "StyleView",
      "bar_color": null,
      "description_width": ""
     }
    },
    "a092d8b93851401381227301706f50f6": {
     "model_module": "@jupyter-widgets/controls",
     "model_module_version": "1.5.0",
     "model_name": "DescriptionStyleModel",
     "state": {
      "_model_module": "@jupyter-widgets/controls",
      "_model_module_version": "1.5.0",
      "_model_name": "DescriptionStyleModel",
      "_view_count": null,
      "_view_module": "@jupyter-widgets/base",
      "_view_module_version": "1.2.0",
      "_view_name": "StyleView",
      "description_width": ""
     }
    },
    "a1a31138e511429b97f3e4d7df7a1198": {
     "model_module": "@jupyter-widgets/base",
     "model_module_version": "1.2.0",
     "model_name": "LayoutModel",
     "state": {
      "_model_module": "@jupyter-widgets/base",
      "_model_module_version": "1.2.0",
      "_model_name": "LayoutModel",
      "_view_count": null,
      "_view_module": "@jupyter-widgets/base",
      "_view_module_version": "1.2.0",
      "_view_name": "LayoutView",
      "align_content": null,
      "align_items": null,
      "align_self": null,
      "border": null,
      "bottom": null,
      "display": null,
      "flex": null,
      "flex_flow": null,
      "grid_area": null,
      "grid_auto_columns": null,
      "grid_auto_flow": null,
      "grid_auto_rows": null,
      "grid_column": null,
      "grid_gap": null,
      "grid_row": null,
      "grid_template_areas": null,
      "grid_template_columns": null,
      "grid_template_rows": null,
      "height": null,
      "justify_content": null,
      "justify_items": null,
      "left": null,
      "margin": null,
      "max_height": null,
      "max_width": null,
      "min_height": null,
      "min_width": null,
      "object_fit": null,
      "object_position": null,
      "order": null,
      "overflow": null,
      "overflow_x": null,
      "overflow_y": null,
      "padding": null,
      "right": null,
      "top": null,
      "visibility": null,
      "width": null
     }
    },
    "a90723218791477597c338f6eec9b25a": {
     "model_module": "@jupyter-widgets/controls",
     "model_module_version": "1.5.0",
     "model_name": "HBoxModel",
     "state": {
      "_dom_classes": [],
      "_model_module": "@jupyter-widgets/controls",
      "_model_module_version": "1.5.0",
      "_model_name": "HBoxModel",
      "_view_count": null,
      "_view_module": "@jupyter-widgets/controls",
      "_view_module_version": "1.5.0",
      "_view_name": "HBoxView",
      "box_style": "",
      "children": [
       "IPY_MODEL_88b17ed6fd834bf0ac44cd1ddaa604d3",
       "IPY_MODEL_1e90a27f276145f29f94f7f133664499",
       "IPY_MODEL_3483864bf9b54fb58684314d9250fbb7"
      ],
      "layout": "IPY_MODEL_355a5438fd764785949b94e7f7fb00c0"
     }
    },
    "adf21d207ce74eff8b9e62294793199f": {
     "model_module": "@jupyter-widgets/base",
     "model_module_version": "1.2.0",
     "model_name": "LayoutModel",
     "state": {
      "_model_module": "@jupyter-widgets/base",
      "_model_module_version": "1.2.0",
      "_model_name": "LayoutModel",
      "_view_count": null,
      "_view_module": "@jupyter-widgets/base",
      "_view_module_version": "1.2.0",
      "_view_name": "LayoutView",
      "align_content": null,
      "align_items": null,
      "align_self": null,
      "border": null,
      "bottom": null,
      "display": null,
      "flex": null,
      "flex_flow": null,
      "grid_area": null,
      "grid_auto_columns": null,
      "grid_auto_flow": null,
      "grid_auto_rows": null,
      "grid_column": null,
      "grid_gap": null,
      "grid_row": null,
      "grid_template_areas": null,
      "grid_template_columns": null,
      "grid_template_rows": null,
      "height": null,
      "justify_content": null,
      "justify_items": null,
      "left": null,
      "margin": null,
      "max_height": null,
      "max_width": null,
      "min_height": null,
      "min_width": null,
      "object_fit": null,
      "object_position": null,
      "order": null,
      "overflow": null,
      "overflow_x": null,
      "overflow_y": null,
      "padding": null,
      "right": null,
      "top": null,
      "visibility": null,
      "width": null
     }
    },
    "b5c8175bb26244f0bb86525d72659dd9": {
     "model_module": "@jupyter-widgets/controls",
     "model_module_version": "1.5.0",
     "model_name": "HTMLModel",
     "state": {
      "_dom_classes": [],
      "_model_module": "@jupyter-widgets/controls",
      "_model_module_version": "1.5.0",
      "_model_name": "HTMLModel",
      "_view_count": null,
      "_view_module": "@jupyter-widgets/controls",
      "_view_module_version": "1.5.0",
      "_view_name": "HTMLView",
      "description": "",
      "description_tooltip": null,
      "layout": "IPY_MODEL_adf21d207ce74eff8b9e62294793199f",
      "placeholder": "​",
      "style": "IPY_MODEL_3ffc502736fd4c9fad3fe4ae11e8f930",
      "value": "Map: 100%"
     }
    },
    "b6287f2ebacf4e02a1095210af023dc1": {
     "model_module": "@jupyter-widgets/controls",
     "model_module_version": "1.5.0",
     "model_name": "FloatProgressModel",
     "state": {
      "_dom_classes": [],
      "_model_module": "@jupyter-widgets/controls",
      "_model_module_version": "1.5.0",
      "_model_name": "FloatProgressModel",
      "_view_count": null,
      "_view_module": "@jupyter-widgets/controls",
      "_view_module_version": "1.5.0",
      "_view_name": "ProgressView",
      "bar_style": "success",
      "description": "",
      "description_tooltip": null,
      "layout": "IPY_MODEL_a1a31138e511429b97f3e4d7df7a1198",
      "max": 19636,
      "min": 0,
      "orientation": "horizontal",
      "style": "IPY_MODEL_709c83b0b61243c7901fd09d54e6fe00",
      "value": 19636
     }
    },
    "d0605b31e35d49b0a82ea9be530a7742": {
     "model_module": "@jupyter-widgets/base",
     "model_module_version": "1.2.0",
     "model_name": "LayoutModel",
     "state": {
      "_model_module": "@jupyter-widgets/base",
      "_model_module_version": "1.2.0",
      "_model_name": "LayoutModel",
      "_view_count": null,
      "_view_module": "@jupyter-widgets/base",
      "_view_module_version": "1.2.0",
      "_view_name": "LayoutView",
      "align_content": null,
      "align_items": null,
      "align_self": null,
      "border": null,
      "bottom": null,
      "display": null,
      "flex": null,
      "flex_flow": null,
      "grid_area": null,
      "grid_auto_columns": null,
      "grid_auto_flow": null,
      "grid_auto_rows": null,
      "grid_column": null,
      "grid_gap": null,
      "grid_row": null,
      "grid_template_areas": null,
      "grid_template_columns": null,
      "grid_template_rows": null,
      "height": null,
      "justify_content": null,
      "justify_items": null,
      "left": null,
      "margin": null,
      "max_height": null,
      "max_width": null,
      "min_height": null,
      "min_width": null,
      "object_fit": null,
      "object_position": null,
      "order": null,
      "overflow": null,
      "overflow_x": null,
      "overflow_y": null,
      "padding": null,
      "right": null,
      "top": null,
      "visibility": null,
      "width": null
     }
    },
    "d6779f7e94984a399b12e226ff0853fa": {
     "model_module": "@jupyter-widgets/controls",
     "model_module_version": "1.5.0",
     "model_name": "FloatProgressModel",
     "state": {
      "_dom_classes": [],
      "_model_module": "@jupyter-widgets/controls",
      "_model_module_version": "1.5.0",
      "_model_name": "FloatProgressModel",
      "_view_count": null,
      "_view_module": "@jupyter-widgets/controls",
      "_view_module_version": "1.5.0",
      "_view_name": "ProgressView",
      "bar_style": "success",
      "description": "",
      "description_tooltip": null,
      "layout": "IPY_MODEL_2bb98d8af10e4183a45ee24d9636c3e6",
      "max": 491,
      "min": 0,
      "orientation": "horizontal",
      "style": "IPY_MODEL_f33e51545acd47668b641384f2472376",
      "value": 491
     }
    },
    "e6b509cf2fc4429b8d46f7f1356233ff": {
     "model_module": "@jupyter-widgets/base",
     "model_module_version": "1.2.0",
     "model_name": "LayoutModel",
     "state": {
      "_model_module": "@jupyter-widgets/base",
      "_model_module_version": "1.2.0",
      "_model_name": "LayoutModel",
      "_view_count": null,
      "_view_module": "@jupyter-widgets/base",
      "_view_module_version": "1.2.0",
      "_view_name": "LayoutView",
      "align_content": null,
      "align_items": null,
      "align_self": null,
      "border": null,
      "bottom": null,
      "display": null,
      "flex": null,
      "flex_flow": null,
      "grid_area": null,
      "grid_auto_columns": null,
      "grid_auto_flow": null,
      "grid_auto_rows": null,
      "grid_column": null,
      "grid_gap": null,
      "grid_row": null,
      "grid_template_areas": null,
      "grid_template_columns": null,
      "grid_template_rows": null,
      "height": null,
      "justify_content": null,
      "justify_items": null,
      "left": null,
      "margin": null,
      "max_height": null,
      "max_width": null,
      "min_height": null,
      "min_width": null,
      "object_fit": null,
      "object_position": null,
      "order": null,
      "overflow": null,
      "overflow_x": null,
      "overflow_y": null,
      "padding": null,
      "right": null,
      "top": null,
      "visibility": null,
      "width": null
     }
    },
    "f2bfdadf314c4cb6b2e1e7db85748339": {
     "model_module": "@jupyter-widgets/controls",
     "model_module_version": "1.5.0",
     "model_name": "DescriptionStyleModel",
     "state": {
      "_model_module": "@jupyter-widgets/controls",
      "_model_module_version": "1.5.0",
      "_model_name": "DescriptionStyleModel",
      "_view_count": null,
      "_view_module": "@jupyter-widgets/base",
      "_view_module_version": "1.2.0",
      "_view_name": "StyleView",
      "description_width": ""
     }
    },
    "f33e51545acd47668b641384f2472376": {
     "model_module": "@jupyter-widgets/controls",
     "model_module_version": "1.5.0",
     "model_name": "ProgressStyleModel",
     "state": {
      "_model_module": "@jupyter-widgets/controls",
      "_model_module_version": "1.5.0",
      "_model_name": "ProgressStyleModel",
      "_view_count": null,
      "_view_module": "@jupyter-widgets/base",
      "_view_module_version": "1.2.0",
      "_view_name": "StyleView",
      "bar_color": null,
      "description_width": ""
     }
    },
    "f44ad90d4ce74c88a542e372d227e1ad": {
     "model_module": "@jupyter-widgets/base",
     "model_module_version": "1.2.0",
     "model_name": "LayoutModel",
     "state": {
      "_model_module": "@jupyter-widgets/base",
      "_model_module_version": "1.2.0",
      "_model_name": "LayoutModel",
      "_view_count": null,
      "_view_module": "@jupyter-widgets/base",
      "_view_module_version": "1.2.0",
      "_view_name": "LayoutView",
      "align_content": null,
      "align_items": null,
      "align_self": null,
      "border": null,
      "bottom": null,
      "display": null,
      "flex": null,
      "flex_flow": null,
      "grid_area": null,
      "grid_auto_columns": null,
      "grid_auto_flow": null,
      "grid_auto_rows": null,
      "grid_column": null,
      "grid_gap": null,
      "grid_row": null,
      "grid_template_areas": null,
      "grid_template_columns": null,
      "grid_template_rows": null,
      "height": null,
      "justify_content": null,
      "justify_items": null,
      "left": null,
      "margin": null,
      "max_height": null,
      "max_width": null,
      "min_height": null,
      "min_width": null,
      "object_fit": null,
      "object_position": null,
      "order": null,
      "overflow": null,
      "overflow_x": null,
      "overflow_y": null,
      "padding": null,
      "right": null,
      "top": null,
      "visibility": null,
      "width": null
     }
    },
    "f77d7fd76af04751a2c72c66ce0f081d": {
     "model_module": "@jupyter-widgets/controls",
     "model_module_version": "1.5.0",
     "model_name": "HBoxModel",
     "state": {
      "_dom_classes": [],
      "_model_module": "@jupyter-widgets/controls",
      "_model_module_version": "1.5.0",
      "_model_name": "HBoxModel",
      "_view_count": null,
      "_view_module": "@jupyter-widgets/controls",
      "_view_module_version": "1.5.0",
      "_view_name": "HBoxView",
      "box_style": "",
      "children": [
       "IPY_MODEL_b5c8175bb26244f0bb86525d72659dd9",
       "IPY_MODEL_d6779f7e94984a399b12e226ff0853fa",
       "IPY_MODEL_54965100ef814ac0a2f9e9fa95b8c106"
      ],
      "layout": "IPY_MODEL_4f4704a140af4c3b92129ae6ef3b64af"
     }
    },
    "fc809f51b03b4bd899b8cc707c30f321": {
     "model_module": "@jupyter-widgets/base",
     "model_module_version": "1.2.0",
     "model_name": "LayoutModel",
     "state": {
      "_model_module": "@jupyter-widgets/base",
      "_model_module_version": "1.2.0",
      "_model_name": "LayoutModel",
      "_view_count": null,
      "_view_module": "@jupyter-widgets/base",
      "_view_module_version": "1.2.0",
      "_view_name": "LayoutView",
      "align_content": null,
      "align_items": null,
      "align_self": null,
      "border": null,
      "bottom": null,
      "display": null,
      "flex": null,
      "flex_flow": null,
      "grid_area": null,
      "grid_auto_columns": null,
      "grid_auto_flow": null,
      "grid_auto_rows": null,
      "grid_column": null,
      "grid_gap": null,
      "grid_row": null,
      "grid_template_areas": null,
      "grid_template_columns": null,
      "grid_template_rows": null,
      "height": null,
      "justify_content": null,
      "justify_items": null,
      "left": null,
      "margin": null,
      "max_height": null,
      "max_width": null,
      "min_height": null,
      "min_width": null,
      "object_fit": null,
      "object_position": null,
      "order": null,
      "overflow": null,
      "overflow_x": null,
      "overflow_y": null,
      "padding": null,
      "right": null,
      "top": null,
      "visibility": null,
      "width": null
     }
    }
   }
  }
 },
 "nbformat": 4,
 "nbformat_minor": 4
}
