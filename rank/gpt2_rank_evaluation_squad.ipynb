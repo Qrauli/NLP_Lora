{
 "cells": [
  {
   "cell_type": "code",
   "execution_count": 1,
   "id": "f6df3b22-738a-4742-8810-35250363f965",
   "metadata": {},
   "outputs": [
    {
     "name": "stdout",
     "output_type": "stream",
     "text": [
      "Requirement already satisfied: transformers in /opt/conda/lib/python3.11/site-packages (4.48.1)\n",
      "Requirement already satisfied: datasets in /opt/conda/lib/python3.11/site-packages (2.9.0)\n",
      "Collecting datasets\n",
      "  Using cached datasets-3.2.0-py3-none-any.whl.metadata (20 kB)\n",
      "Requirement already satisfied: peft in /opt/conda/lib/python3.11/site-packages (0.14.0)\n",
      "Requirement already satisfied: evaluate in /opt/conda/lib/python3.11/site-packages (0.4.3)\n",
      "Requirement already satisfied: tf-keras in /opt/conda/lib/python3.11/site-packages (2.18.0)\n",
      "Requirement already satisfied: sacrebleu in /opt/conda/lib/python3.11/site-packages (2.5.1)\n",
      "Requirement already satisfied: rouge_score in /opt/conda/lib/python3.11/site-packages (0.1.2)\n",
      "Requirement already satisfied: pycocoevalcap in /opt/conda/lib/python3.11/site-packages (1.2)\n",
      "Requirement already satisfied: nltk in /opt/conda/lib/python3.11/site-packages (3.7)\n",
      "Collecting nltk\n",
      "  Using cached nltk-3.9.1-py3-none-any.whl.metadata (2.9 kB)\n",
      "Requirement already satisfied: filelock in /opt/conda/lib/python3.11/site-packages (from transformers) (3.16.1)\n",
      "Requirement already satisfied: huggingface-hub<1.0,>=0.24.0 in /opt/conda/lib/python3.11/site-packages (from transformers) (0.27.1)\n",
      "Requirement already satisfied: numpy>=1.17 in /opt/conda/lib/python3.11/site-packages (from transformers) (1.26.4)\n",
      "Requirement already satisfied: packaging>=20.0 in /opt/conda/lib/python3.11/site-packages (from transformers) (24.1)\n",
      "Requirement already satisfied: pyyaml>=5.1 in /opt/conda/lib/python3.11/site-packages (from transformers) (6.0.2)\n",
      "Requirement already satisfied: regex!=2019.12.17 in /opt/conda/lib/python3.11/site-packages (from transformers) (2024.11.6)\n",
      "Requirement already satisfied: requests in /opt/conda/lib/python3.11/site-packages (from transformers) (2.32.3)\n",
      "Requirement already satisfied: tokenizers<0.22,>=0.21 in /opt/conda/lib/python3.11/site-packages (from transformers) (0.21.0)\n",
      "Requirement already satisfied: safetensors>=0.4.1 in /opt/conda/lib/python3.11/site-packages (from transformers) (0.5.1)\n",
      "Requirement already satisfied: tqdm>=4.27 in /opt/conda/lib/python3.11/site-packages (from transformers) (4.66.5)\n",
      "Requirement already satisfied: pyarrow>=15.0.0 in /opt/conda/lib/python3.11/site-packages (from datasets) (17.0.0)\n",
      "Requirement already satisfied: dill<0.3.9,>=0.3.0 in /opt/conda/lib/python3.11/site-packages (from datasets) (0.3.6)\n",
      "Requirement already satisfied: pandas in /opt/conda/lib/python3.11/site-packages (from datasets) (2.2.3)\n",
      "Requirement already satisfied: xxhash in /opt/conda/lib/python3.11/site-packages (from datasets) (3.5.0)\n",
      "Requirement already satisfied: multiprocess<0.70.17 in /opt/conda/lib/python3.11/site-packages (from datasets) (0.70.14)\n",
      "Requirement already satisfied: fsspec<=2024.9.0,>=2023.1.0 in /opt/conda/lib/python3.11/site-packages (from fsspec[http]<=2024.9.0,>=2023.1.0->datasets) (2024.9.0)\n",
      "Requirement already satisfied: aiohttp in /opt/conda/lib/python3.11/site-packages (from datasets) (3.10.10)\n",
      "Requirement already satisfied: psutil in /opt/conda/lib/python3.11/site-packages (from peft) (5.9.8)\n",
      "Requirement already satisfied: torch>=1.13.0 in /opt/conda/lib/python3.11/site-packages (from peft) (2.1.2+cu121)\n",
      "Requirement already satisfied: accelerate>=0.21.0 in /opt/conda/lib/python3.11/site-packages (from peft) (1.3.0)\n",
      "Requirement already satisfied: tensorflow<2.19,>=2.18 in /opt/conda/lib/python3.11/site-packages (from tf-keras) (2.18.0)\n",
      "Requirement already satisfied: portalocker in /opt/conda/lib/python3.11/site-packages (from sacrebleu) (3.1.1)\n",
      "Requirement already satisfied: tabulate>=0.8.9 in /opt/conda/lib/python3.11/site-packages (from sacrebleu) (0.9.0)\n",
      "Requirement already satisfied: colorama in /opt/conda/lib/python3.11/site-packages (from sacrebleu) (0.4.6)\n",
      "Requirement already satisfied: lxml in /opt/conda/lib/python3.11/site-packages (from sacrebleu) (5.3.0)\n",
      "Requirement already satisfied: absl-py in /opt/conda/lib/python3.11/site-packages (from rouge_score) (2.1.0)\n",
      "Requirement already satisfied: six>=1.14.0 in /opt/conda/lib/python3.11/site-packages (from rouge_score) (1.16.0)\n",
      "Requirement already satisfied: pycocotools>=2.0.2 in /opt/conda/lib/python3.11/site-packages (from pycocoevalcap) (2.0.8)\n",
      "Requirement already satisfied: click in /opt/conda/lib/python3.11/site-packages (from nltk) (8.1.3)\n",
      "Requirement already satisfied: joblib in /opt/conda/lib/python3.11/site-packages (from nltk) (1.4.2)\n",
      "Requirement already satisfied: aiohappyeyeballs>=2.3.0 in /opt/conda/lib/python3.11/site-packages (from aiohttp->datasets) (2.4.3)\n",
      "Requirement already satisfied: aiosignal>=1.1.2 in /opt/conda/lib/python3.11/site-packages (from aiohttp->datasets) (1.3.1)\n",
      "Requirement already satisfied: attrs>=17.3.0 in /opt/conda/lib/python3.11/site-packages (from aiohttp->datasets) (24.2.0)\n",
      "Requirement already satisfied: frozenlist>=1.1.1 in /opt/conda/lib/python3.11/site-packages (from aiohttp->datasets) (1.4.1)\n",
      "Requirement already satisfied: multidict<7.0,>=4.5 in /opt/conda/lib/python3.11/site-packages (from aiohttp->datasets) (6.1.0)\n",
      "Requirement already satisfied: yarl<2.0,>=1.12.0 in /opt/conda/lib/python3.11/site-packages (from aiohttp->datasets) (1.14.0)\n",
      "Requirement already satisfied: typing-extensions>=3.7.4.3 in /opt/conda/lib/python3.11/site-packages (from huggingface-hub<1.0,>=0.24.0->transformers) (4.12.2)\n",
      "Requirement already satisfied: matplotlib>=2.1.0 in /opt/conda/lib/python3.11/site-packages (from pycocotools>=2.0.2->pycocoevalcap) (3.9.2)\n",
      "Requirement already satisfied: charset-normalizer<4,>=2 in /opt/conda/lib/python3.11/site-packages (from requests->transformers) (3.4.0)\n",
      "Requirement already satisfied: idna<4,>=2.5 in /opt/conda/lib/python3.11/site-packages (from requests->transformers) (3.10)\n",
      "Requirement already satisfied: urllib3<3,>=1.21.1 in /opt/conda/lib/python3.11/site-packages (from requests->transformers) (2.2.3)\n",
      "Requirement already satisfied: certifi>=2017.4.17 in /opt/conda/lib/python3.11/site-packages (from requests->transformers) (2024.8.30)\n",
      "Requirement already satisfied: astunparse>=1.6.0 in /opt/conda/lib/python3.11/site-packages (from tensorflow<2.19,>=2.18->tf-keras) (1.6.3)\n",
      "Requirement already satisfied: flatbuffers>=24.3.25 in /opt/conda/lib/python3.11/site-packages (from tensorflow<2.19,>=2.18->tf-keras) (24.12.23)\n",
      "Requirement already satisfied: gast!=0.5.0,!=0.5.1,!=0.5.2,>=0.2.1 in /opt/conda/lib/python3.11/site-packages (from tensorflow<2.19,>=2.18->tf-keras) (0.6.0)\n",
      "Requirement already satisfied: google-pasta>=0.1.1 in /opt/conda/lib/python3.11/site-packages (from tensorflow<2.19,>=2.18->tf-keras) (0.2.0)\n",
      "Requirement already satisfied: libclang>=13.0.0 in /opt/conda/lib/python3.11/site-packages (from tensorflow<2.19,>=2.18->tf-keras) (18.1.1)\n",
      "Requirement already satisfied: opt-einsum>=2.3.2 in /opt/conda/lib/python3.11/site-packages (from tensorflow<2.19,>=2.18->tf-keras) (3.4.0)\n",
      "Requirement already satisfied: protobuf!=4.21.0,!=4.21.1,!=4.21.2,!=4.21.3,!=4.21.4,!=4.21.5,<6.0.0dev,>=3.20.3 in /opt/conda/lib/python3.11/site-packages (from tensorflow<2.19,>=2.18->tf-keras) (4.25.5)\n",
      "Requirement already satisfied: setuptools in /opt/conda/lib/python3.11/site-packages (from tensorflow<2.19,>=2.18->tf-keras) (75.1.0)\n",
      "Requirement already satisfied: termcolor>=1.1.0 in /opt/conda/lib/python3.11/site-packages (from tensorflow<2.19,>=2.18->tf-keras) (2.5.0)\n",
      "Requirement already satisfied: wrapt>=1.11.0 in /opt/conda/lib/python3.11/site-packages (from tensorflow<2.19,>=2.18->tf-keras) (1.17.0)\n",
      "Requirement already satisfied: grpcio<2.0,>=1.24.3 in /opt/conda/lib/python3.11/site-packages (from tensorflow<2.19,>=2.18->tf-keras) (1.69.0)\n",
      "Requirement already satisfied: tensorboard<2.19,>=2.18 in /opt/conda/lib/python3.11/site-packages (from tensorflow<2.19,>=2.18->tf-keras) (2.18.0)\n",
      "Requirement already satisfied: keras>=3.5.0 in /opt/conda/lib/python3.11/site-packages (from tensorflow<2.19,>=2.18->tf-keras) (3.8.0)\n",
      "Requirement already satisfied: h5py>=3.11.0 in /opt/conda/lib/python3.11/site-packages (from tensorflow<2.19,>=2.18->tf-keras) (3.11.0)\n",
      "Requirement already satisfied: ml-dtypes<0.5.0,>=0.4.0 in /opt/conda/lib/python3.11/site-packages (from tensorflow<2.19,>=2.18->tf-keras) (0.4.1)\n",
      "Requirement already satisfied: tensorflow-io-gcs-filesystem>=0.23.1 in /opt/conda/lib/python3.11/site-packages (from tensorflow<2.19,>=2.18->tf-keras) (0.37.1)\n",
      "Requirement already satisfied: sympy in /opt/conda/lib/python3.11/site-packages (from torch>=1.13.0->peft) (1.13.3)\n",
      "Requirement already satisfied: networkx in /opt/conda/lib/python3.11/site-packages (from torch>=1.13.0->peft) (3.4.1)\n",
      "Requirement already satisfied: jinja2 in /opt/conda/lib/python3.11/site-packages (from torch>=1.13.0->peft) (3.1.4)\n",
      "Requirement already satisfied: triton==2.1.0 in /opt/conda/lib/python3.11/site-packages (from torch>=1.13.0->peft) (2.1.0)\n",
      "Requirement already satisfied: python-dateutil>=2.8.2 in /opt/conda/lib/python3.11/site-packages (from pandas->datasets) (2.9.0)\n",
      "Requirement already satisfied: pytz>=2020.1 in /opt/conda/lib/python3.11/site-packages (from pandas->datasets) (2024.1)\n",
      "Requirement already satisfied: tzdata>=2022.7 in /opt/conda/lib/python3.11/site-packages (from pandas->datasets) (2024.2)\n",
      "Requirement already satisfied: wheel<1.0,>=0.23.0 in /opt/conda/lib/python3.11/site-packages (from astunparse>=1.6.0->tensorflow<2.19,>=2.18->tf-keras) (0.44.0)\n",
      "Requirement already satisfied: rich in /opt/conda/lib/python3.11/site-packages (from keras>=3.5.0->tensorflow<2.19,>=2.18->tf-keras) (13.9.4)\n",
      "Requirement already satisfied: namex in /opt/conda/lib/python3.11/site-packages (from keras>=3.5.0->tensorflow<2.19,>=2.18->tf-keras) (0.0.8)\n",
      "Requirement already satisfied: optree in /opt/conda/lib/python3.11/site-packages (from keras>=3.5.0->tensorflow<2.19,>=2.18->tf-keras) (0.13.1)\n",
      "Requirement already satisfied: contourpy>=1.0.1 in /opt/conda/lib/python3.11/site-packages (from matplotlib>=2.1.0->pycocotools>=2.0.2->pycocoevalcap) (1.3.0)\n",
      "Requirement already satisfied: cycler>=0.10 in /opt/conda/lib/python3.11/site-packages (from matplotlib>=2.1.0->pycocotools>=2.0.2->pycocoevalcap) (0.12.1)\n",
      "Requirement already satisfied: fonttools>=4.22.0 in /opt/conda/lib/python3.11/site-packages (from matplotlib>=2.1.0->pycocotools>=2.0.2->pycocoevalcap) (4.54.1)\n",
      "Requirement already satisfied: kiwisolver>=1.3.1 in /opt/conda/lib/python3.11/site-packages (from matplotlib>=2.1.0->pycocotools>=2.0.2->pycocoevalcap) (1.4.7)\n",
      "Requirement already satisfied: pillow>=8 in /opt/conda/lib/python3.11/site-packages (from matplotlib>=2.1.0->pycocotools>=2.0.2->pycocoevalcap) (10.4.0)\n",
      "Requirement already satisfied: pyparsing>=2.3.1 in /opt/conda/lib/python3.11/site-packages (from matplotlib>=2.1.0->pycocotools>=2.0.2->pycocoevalcap) (3.2.0)\n",
      "Requirement already satisfied: markdown>=2.6.8 in /opt/conda/lib/python3.11/site-packages (from tensorboard<2.19,>=2.18->tensorflow<2.19,>=2.18->tf-keras) (3.7)\n",
      "Requirement already satisfied: tensorboard-data-server<0.8.0,>=0.7.0 in /opt/conda/lib/python3.11/site-packages (from tensorboard<2.19,>=2.18->tensorflow<2.19,>=2.18->tf-keras) (0.7.2)\n",
      "Requirement already satisfied: werkzeug>=1.0.1 in /opt/conda/lib/python3.11/site-packages (from tensorboard<2.19,>=2.18->tensorflow<2.19,>=2.18->tf-keras) (3.1.3)\n",
      "Requirement already satisfied: propcache>=0.2.0 in /opt/conda/lib/python3.11/site-packages (from yarl<2.0,>=1.12.0->aiohttp->datasets) (0.2.0)\n",
      "Requirement already satisfied: MarkupSafe>=2.0 in /opt/conda/lib/python3.11/site-packages (from jinja2->torch>=1.13.0->peft) (3.0.1)\n",
      "Requirement already satisfied: mpmath<1.4,>=1.1.0 in /opt/conda/lib/python3.11/site-packages (from sympy->torch>=1.13.0->peft) (1.3.0)\n",
      "Requirement already satisfied: markdown-it-py>=2.2.0 in /opt/conda/lib/python3.11/site-packages (from rich->keras>=3.5.0->tensorflow<2.19,>=2.18->tf-keras) (3.0.0)\n",
      "Requirement already satisfied: pygments<3.0.0,>=2.13.0 in /opt/conda/lib/python3.11/site-packages (from rich->keras>=3.5.0->tensorflow<2.19,>=2.18->tf-keras) (2.18.0)\n",
      "Requirement already satisfied: mdurl~=0.1 in /opt/conda/lib/python3.11/site-packages (from markdown-it-py>=2.2.0->rich->keras>=3.5.0->tensorflow<2.19,>=2.18->tf-keras) (0.1.2)\n",
      "Using cached datasets-3.2.0-py3-none-any.whl (480 kB)\n",
      "Using cached nltk-3.9.1-py3-none-any.whl (1.5 MB)\n",
      "Installing collected packages: nltk, datasets\n",
      "  Attempting uninstall: nltk\n",
      "    Found existing installation: nltk 3.7\n",
      "    Uninstalling nltk-3.7:\n",
      "      Successfully uninstalled nltk-3.7\n",
      "  Attempting uninstall: datasets\n",
      "    Found existing installation: datasets 2.9.0\n",
      "    Uninstalling datasets-2.9.0:\n",
      "      Successfully uninstalled datasets-2.9.0\n",
      "\u001B[31mERROR: pip's dependency resolver does not currently take into account all the packages that are installed. This behaviour is the source of the following dependency conflicts.\n",
      "nlg-metricverse 0.9.9 requires datasets<2.10,>=2.9, but you have datasets 3.2.0 which is incompatible.\n",
      "nlg-metricverse 0.9.9 requires nltk<3.7.1,>=3.6.6, but you have nltk 3.9.1 which is incompatible.\u001B[0m\u001B[31m\n",
      "\u001B[0mSuccessfully installed datasets-3.2.0 nltk-3.9.1\n",
      "Note: you may need to restart the kernel to use updated packages.\n"
     ]
    }
   ],
   "source": [
    "%pip install -U transformers datasets peft evaluate tf-keras sacrebleu rouge_score pycocoevalcap nltk"
   ]
  },
  {
   "cell_type": "code",
   "execution_count": 2,
   "id": "6007529e-3527-4e7c-94b1-1c034b1cca15",
   "metadata": {},
   "outputs": [
    {
     "name": "stderr",
     "output_type": "stream",
     "text": [
      "2025-01-29 11:44:16.788713: I tensorflow/core/util/port.cc:153] oneDNN custom operations are on. You may see slightly different numerical results due to floating-point round-off errors from different computation orders. To turn them off, set the environment variable `TF_ENABLE_ONEDNN_OPTS=0`.\n",
      "2025-01-29 11:44:16.812439: E external/local_xla/xla/stream_executor/cuda/cuda_fft.cc:477] Unable to register cuFFT factory: Attempting to register factory for plugin cuFFT when one has already been registered\n",
      "WARNING: All log messages before absl::InitializeLog() is called are written to STDERR\n",
      "E0000 00:00:1738151056.833152    7421 cuda_dnn.cc:8310] Unable to register cuDNN factory: Attempting to register factory for plugin cuDNN when one has already been registered\n",
      "E0000 00:00:1738151056.839312    7421 cuda_blas.cc:1418] Unable to register cuBLAS factory: Attempting to register factory for plugin cuBLAS when one has already been registered\n",
      "2025-01-29 11:44:16.865822: I tensorflow/core/platform/cpu_feature_guard.cc:210] This TensorFlow binary is optimized to use available CPU instructions in performance-critical operations.\n",
      "To enable the following instructions: AVX2 AVX512F AVX512_VNNI FMA, in other operations, rebuild TensorFlow with the appropriate compiler flags.\n"
     ]
    }
   ],
   "source": [
    "import torch\n",
    "from transformers import GPT2Tokenizer, GPT2LMHeadModel, DataCollatorForLanguageModeling, DataCollatorForSeq2Seq, AutoTokenizer, get_linear_schedule_with_warmup\n",
    "from datasets import load_dataset\n",
    "import evaluate\n",
    "from peft import get_peft_config, get_peft_model, LoraConfig, TaskType\n",
    "from tqdm.auto import tqdm\n",
    "import re\n",
    "import nltk\n",
    "import pandas as pd\n",
    "from itertools import groupby\n",
    "from datasets import Dataset\n",
    "# Update the training and evaluation loop\n",
    "from torch.utils.data import DataLoader\n"
   ]
  },
  {
   "cell_type": "code",
   "execution_count": 3,
   "id": "83a8ade9-4be5-456e-9630-9a3b54222e27",
   "metadata": {},
   "outputs": [
    {
     "data": {
      "text/plain": [
       "device(type='cuda')"
      ]
     },
     "execution_count": 3,
     "metadata": {},
     "output_type": "execute_result"
    }
   ],
   "source": [
    "# Check if GPU is available\n",
    "device = torch.device(\"cuda\" if torch.cuda.is_available() else \"cpu\")\n",
    "device"
   ]
  },
  {
   "cell_type": "code",
   "execution_count": 4,
   "id": "7a131b40-242f-4c87-8b9d-09dac917329c",
   "metadata": {},
   "outputs": [],
   "source": [
    "ranks = [1, 2, 4, 8, 16, 32, 64, 128, 256, 512, 1024]\n",
    "alpha=32\n",
    "weight_decay = 0.01\n",
    "dropout_prob = 0.1\n",
    "label_smooth = 0.1\n",
    "length_penalty = 0.9\n",
    "max_length = 128\n",
    "batch_size=8\n",
    "lr=2e-4\n",
    "num_epochs=2\n",
    "num_warmup_steps=500\n",
    "train_set_size=None\n",
    "eval_set_size=None"
   ]
  },
  {
   "cell_type": "code",
   "execution_count": 5,
   "id": "e4674c7e-3a37-455f-b294-b63613ee8723",
   "metadata": {},
   "outputs": [
    {
     "name": "stdout",
     "output_type": "stream",
     "text": [
      "{'input_ids': [[50257, 50257, 50257, 50257, 50257, 50257, 50257, 50257, 50257, 50257, 50257, 50257, 50257, 50257, 50257, 50257, 50257, 50257, 50257, 50257, 50257, 50257, 50257, 50257, 50257, 50257, 50257, 50257, 50257, 50257, 50257, 50257, 50257, 50257, 50257, 50257, 50257, 50257, 50257, 50257, 50257, 50257, 50257, 50257, 50257, 50257, 50257, 50257, 50257, 50257, 50257, 50257, 50257, 50257, 50257, 50257, 50257, 50257, 50257, 50257, 50257, 50257, 50257, 50257, 50257, 50257, 50257, 50257, 50257, 50257, 50257, 50257, 50257, 50257, 50257, 50257, 50257, 50257, 50257, 50257, 50257, 50257, 50257, 50257, 50257, 50257, 50257, 50257, 50257, 50257, 50257, 50257, 50257, 50257, 50257, 50257, 50257, 50257, 50257, 50257, 50257, 50257, 50257, 50257, 50257, 50257, 50257, 50257, 50257, 50257, 50257, 50257, 50257, 50257, 50257, 50257, 50257, 1212, 318, 281, 1672, 6827, 329, 262, 4279, 12660, 4876, 13]], 'attention_mask': [[0, 0, 0, 0, 0, 0, 0, 0, 0, 0, 0, 0, 0, 0, 0, 0, 0, 0, 0, 0, 0, 0, 0, 0, 0, 0, 0, 0, 0, 0, 0, 0, 0, 0, 0, 0, 0, 0, 0, 0, 0, 0, 0, 0, 0, 0, 0, 0, 0, 0, 0, 0, 0, 0, 0, 0, 0, 0, 0, 0, 0, 0, 0, 0, 0, 0, 0, 0, 0, 0, 0, 0, 0, 0, 0, 0, 0, 0, 0, 0, 0, 0, 0, 0, 0, 0, 0, 0, 0, 0, 0, 0, 0, 0, 0, 0, 0, 0, 0, 0, 0, 0, 0, 0, 0, 0, 0, 0, 0, 0, 0, 0, 0, 0, 0, 0, 0, 1, 1, 1, 1, 1, 1, 1, 1, 1, 1, 1]]}\n",
      "[PAD][PAD][PAD][PAD][PAD][PAD][PAD][PAD][PAD][PAD][PAD][PAD][PAD][PAD][PAD][PAD][PAD][PAD][PAD][PAD][PAD][PAD][PAD][PAD][PAD][PAD][PAD][PAD][PAD][PAD][PAD][PAD][PAD][PAD][PAD][PAD][PAD][PAD][PAD][PAD][PAD][PAD][PAD][PAD][PAD][PAD][PAD][PAD][PAD][PAD][PAD][PAD][PAD][PAD][PAD][PAD][PAD][PAD][PAD][PAD][PAD][PAD][PAD][PAD][PAD][PAD][PAD][PAD][PAD][PAD][PAD][PAD][PAD][PAD][PAD][PAD][PAD][PAD][PAD][PAD][PAD][PAD][PAD][PAD][PAD][PAD][PAD][PAD][PAD][PAD][PAD][PAD][PAD][PAD][PAD][PAD][PAD][PAD][PAD][PAD][PAD][PAD][PAD][PAD][PAD][PAD][PAD][PAD][PAD][PAD][PAD][PAD][PAD][PAD][PAD][PAD][PAD]This is an example sentence for the rank evaluation task.\n"
     ]
    }
   ],
   "source": [
    "# https://huggingface.co/docs/transformers/preprocessing\n",
    "nltk.download(\"punkt\", quiet=True)\n",
    "model_name = \"gpt2-medium\"\n",
    "tokenizer = AutoTokenizer.from_pretrained(model_name) #GPT2Tokenizer.from_pretrained('gpt2-medium')\n",
    "tokenizer.padding_side = 'left'\n",
    "tokenizer.add_special_tokens({'pad_token': '[PAD]'})\n",
    "encoded_input = tokenizer([\"This is an example sentence for the rank evaluation task.\"], truncation=True, padding='max_length', max_length=128)\n",
    "print(encoded_input)\n",
    "print(tokenizer.decode(encoded_input[\"input_ids\"][0]))"
   ]
  },
  {
   "cell_type": "code",
   "execution_count": 6,
   "id": "06050d40-6194-4e1c-be81-41ecef78fad2",
   "metadata": {},
   "outputs": [
    {
     "data": {
      "text/plain": [
       "'Saint Bernadette Soubirous'"
      ]
     },
     "execution_count": 6,
     "metadata": {},
     "output_type": "execute_result"
    }
   ],
   "source": [
    "dataset = load_dataset(\"squad\")\n",
    "\n",
    "train_set = dataset[\"train\"]\n",
    "test_set = dataset[\"validation\"]\n",
    "train_set[0][\"answers\"][\"text\"][0]"
   ]
  },
  {
   "cell_type": "code",
   "execution_count": 7,
   "id": "05cae5d3-c76f-4030-a2b8-83eb160a3500",
   "metadata": {},
   "outputs": [],
   "source": [
    "# Grouping function for E2E NLG test dataset\n",
    "def preprocess_test_set(test_data):\n",
    "    return [sample[\"answers\"][\"text\"][0] for sample in test_data]\n",
    "\n",
    "def preprocess_train_set(examples):\n",
    "    questions = examples['question']\n",
    "    context = [context[:512] for context in examples[\"context\"]]\n",
    "    answer = [sample[\"text\"][0] for sample in examples['answers']]\n",
    "    texts = [\"<Q>\" + q + \"<C>\" + c + '<A>' + a + \" \" + tokenizer.eos_token for q, c, a in zip(questions, context, answer)]\n",
    "    model_inputs = tokenizer(texts, truncation=True)\n",
    "    model_inputs[\"labels\"] = model_inputs[\"input_ids\"].copy()\n",
    "    return model_inputs\n",
    "\n",
    "def preprocess_eval(examples):\n",
    "    questions = examples['question']\n",
    "    context = [context[:512] for context in examples[\"context\"]]\n",
    "    answer = [sample[\"text\"][0] for sample in examples['answers']]\n",
    "    texts = [\"<Q>\" + q + \"<C>\" + c + '<A>' for q, c in zip(questions, context)]\n",
    "    model_inputs = tokenizer(texts, truncation=True)\n",
    "    model_inputs[\"question\"] = texts\n",
    "    model_inputs[\"answer\"] = answer\n",
    "    return model_inputs"
   ]
  },
  {
   "cell_type": "code",
   "execution_count": null,
   "id": "3cd6ecfc-6bef-4562-a5d5-6697a26b3216",
   "metadata": {},
   "outputs": [],
   "source": [
    "# needs to be installed after dataset has been loaded\n",
    "%pip install nlg-metricverse"
   ]
  },
  {
   "cell_type": "code",
   "execution_count": 9,
   "id": "d1c6e04e-5b04-45ac-9166-9be8391e20f9",
   "metadata": {},
   "outputs": [],
   "source": [
    "from nlgmetricverse import NLGMetricverse, load_metric\n",
    "\n",
    "bleu = evaluate.load('bleu')\n",
    "rouge = evaluate.load('rouge')\n",
    "nist = evaluate.load('nist_mt')\n",
    "cider = NLGMetricverse(metrics=load_metric(\"cider\"))\n",
    "meteor = NLGMetricverse(metrics=load_metric(\"meteor\"))"
   ]
  },
  {
   "cell_type": "code",
   "execution_count": 10,
   "id": "cc726236-33bd-4bae-a5bf-da73f04fc5c2",
   "metadata": {},
   "outputs": [],
   "source": [
    "def custom_collate_fn(batch):\n",
    "    answer = [item['answer'] for item in batch]\n",
    "    question = [item['question'] for item in batch]\n",
    "    # Remove 'human_reference' before using data_collator\n",
    "    batch = [{'input_ids': item['input_ids'], 'attention_mask': item['attention_mask']} for item in batch]\n",
    "    batch = data_collator(batch)\n",
    "    batch['answer'] = answer\n",
    "    batch['question'] = question\n",
    "    return batch\n",
    "\n",
    "def generate_predictions(test_dataloader, model, tokenizer, length_penalty):\n",
    "    model.eval()\n",
    "    predictions = []\n",
    "    references = []\n",
    "    progress_bar = tqdm(test_dataloader, desc=\"Generating predictions\")\n",
    "    for batch in progress_bar:\n",
    "        # Use only the meaning representation as input\n",
    "        input_ids = batch['input_ids'].to(model.device)\n",
    "        attention_mask = batch['attention_mask'].to(model.device)\n",
    "        questions = batch['question']\n",
    "        answers = batch['answer']\n",
    "        with torch.no_grad():\n",
    "            output_ids = model.generate(\n",
    "                input_ids,\n",
    "                attention_mask=attention_mask,\n",
    "                num_beams=10,\n",
    "                length_penalty=length_penalty,\n",
    "                repetition_penalty=1.0,\n",
    "                no_repeat_ngram_size=4,\n",
    "                max_new_tokens=64,\n",
    "                pad_token_id=tokenizer.pad_token_id,\n",
    "                eos_token_id=tokenizer.eos_token_id\n",
    "            )\n",
    "        for i, output in enumerate(output_ids):\n",
    "            prediction = tokenizer.decode(output, skip_special_tokens=True)\n",
    "            input_text = questions[i]\n",
    "            if prediction.startswith(input_text):\n",
    "                prediction = prediction[len(input_text) :]\n",
    "            prediction = prediction.strip()\n",
    "            predictions.append(format_outputs(prediction))\n",
    "            references.append(format_outputs(answers[i]))\n",
    "    return predictions, references\n",
    "\n",
    "def format_outputs(text):\n",
    "    text = text.lower()\n",
    "    text = ' '.join(re.split('(\\W)', text))\n",
    "    text = text.split()\n",
    "    text = ' '.join(text)\n",
    "    return text"
   ]
  },
  {
   "cell_type": "code",
   "execution_count": 11,
   "id": "7d294b6d-abb9-4a56-95c1-31c839c0f81a",
   "metadata": {},
   "outputs": [
    {
     "data": {
      "application/vnd.jupyter.widget-view+json": {
       "model_id": "fab22635733b4a04b7aa7581c39b1c8e",
       "version_major": 2,
       "version_minor": 0
      },
      "text/plain": [
       "Map:   0%|          | 0/20000 [00:00<?, ? examples/s]"
      ]
     },
     "metadata": {},
     "output_type": "display_data"
    },
    {
     "data": {
      "application/vnd.jupyter.widget-view+json": {
       "model_id": "020426933069480ca40d17071f60928a",
       "version_major": 2,
       "version_minor": 0
      },
      "text/plain": [
       "Map:   0%|          | 0/500 [00:00<?, ? examples/s]"
      ]
     },
     "metadata": {},
     "output_type": "display_data"
    }
   ],
   "source": [
    "train_size = 20000\n",
    "test_size = 500\n",
    "test_data = preprocess_test_set(dataset[\"validation\"])\n",
    "preprocess_function = preprocess_train_set\n",
    "preprocess_function_eval = preprocess_eval\n",
    "\n",
    "train_data = Dataset.from_dict(dataset[\"train\"][:train_size])\n",
    "test_data = Dataset.from_dict(dataset[\"validation\"][:test_size])\n",
    "\n",
    "train_tokenized = train_data.map(preprocess_function, batched=True, remove_columns=train_data.column_names)\n",
    "if train_set_size is not None:\n",
    "    train_tokenized = train_tokenized.select(range(train_set_size))\n",
    "test_tokenized = test_data.map(preprocess_function_eval, batched=True, remove_columns=test_data.column_names)\n",
    "if eval_set_size is not None:\n",
    "    test_tokenized = test_tokenized.select(range(eval_set_size))\n",
    "# Data collator and DataLoaders\n",
    "data_collator = DataCollatorForSeq2Seq(tokenizer=tokenizer, return_tensors=\"pt\", padding=True)\n",
    "\n",
    "train_dataloader = DataLoader(train_tokenized, shuffle=True, batch_size=batch_size, collate_fn=data_collator)\n",
    "test_dataloader = DataLoader(test_tokenized, batch_size=1, collate_fn=custom_collate_fn)"
   ]
  },
  {
   "cell_type": "code",
   "execution_count": null,
   "id": "4069dde0-46e8-4bac-879d-61ea274a6077",
   "metadata": {},
   "outputs": [
    {
     "name": "stderr",
     "output_type": "stream",
     "text": [
      "/opt/conda/lib/python3.11/site-packages/peft/tuners/lora/layer.py:1264: UserWarning: fan_in_fan_out is set to False but the target module is `Conv1D`. Setting fan_in_fan_out to True.\n",
      "  warnings.warn(\n",
      "The new embeddings will be initialized from a multivariate normal distribution that has old embeddings' mean and covariance. As described in this article: https://nlp.stanford.edu/~johnhew/vocab-expansion.html. To disable this, use `mean_resizing=False`\n"
     ]
    },
    {
     "name": "stdout",
     "output_type": "stream",
     "text": [
      "Evaluation for Rank: 8\n",
      "trainable params: 786,432 || all params: 355,610,624 || trainable%: 0.2211\n",
      "None\n"
     ]
    },
    {
     "data": {
      "application/vnd.jupyter.widget-view+json": {
       "model_id": "511e6fa5bd374684b602ca1fc1bc6938",
       "version_major": 2,
       "version_minor": 0
      },
      "text/plain": [
       "Epoch 1/2:   0%|          | 0/2500 [00:00<?, ?it/s]"
      ]
     },
     "metadata": {},
     "output_type": "display_data"
    },
    {
     "data": {
      "application/vnd.jupyter.widget-view+json": {
       "model_id": "66d746cfb77c442e81f9960d6eb7a076",
       "version_major": 2,
       "version_minor": 0
      },
      "text/plain": [
       "Epoch 2/2:   0%|          | 0/2500 [00:00<?, ?it/s]"
      ]
     },
     "metadata": {},
     "output_type": "display_data"
    },
    {
     "data": {
      "application/vnd.jupyter.widget-view+json": {
       "model_id": "d35042a858a145fb8b0ae02e96cb976c",
       "version_major": 2,
       "version_minor": 0
      },
      "text/plain": [
       "Generating predictions:   0%|          | 0/500 [00:00<?, ?it/s]"
      ]
     },
     "metadata": {},
     "output_type": "display_data"
    },
    {
     "name": "stdout",
     "output_type": "stream",
     "text": [
      "{'bleu': 0.3374012358401864, 'meteor': 0.3906918892744414, 'rouge_l': 0.4889958707958708, 'nist': 4.17581164161975, 'cider': 0.09167877552176247}\n",
      "Evaluation for Rank: 16\n",
      "trainable params: 1,572,864 || all params: 356,397,056 || trainable%: 0.4413\n",
      "None\n"
     ]
    },
    {
     "data": {
      "application/vnd.jupyter.widget-view+json": {
       "model_id": "724aafe085d2437aa29163b129736e90",
       "version_major": 2,
       "version_minor": 0
      },
      "text/plain": [
       "Epoch 1/2:   0%|          | 0/2500 [00:00<?, ?it/s]"
      ]
     },
     "metadata": {},
     "output_type": "display_data"
    },
    {
     "data": {
      "application/vnd.jupyter.widget-view+json": {
       "model_id": "41992facf9aa4f56964341be04b51dab",
       "version_major": 2,
       "version_minor": 0
      },
      "text/plain": [
       "Epoch 2/2:   0%|          | 0/2500 [00:00<?, ?it/s]"
      ]
     },
     "metadata": {},
     "output_type": "display_data"
    },
    {
     "data": {
      "application/vnd.jupyter.widget-view+json": {
       "model_id": "bb97c3ad890a41f38fa8cc3dab9afffa",
       "version_major": 2,
       "version_minor": 0
      },
      "text/plain": [
       "Generating predictions:   0%|          | 0/500 [00:00<?, ?it/s]"
      ]
     },
     "metadata": {},
     "output_type": "display_data"
    },
    {
     "name": "stdout",
     "output_type": "stream",
     "text": [
      "{'bleu': 0.40247828343123365, 'meteor': 0.4020678820326185, 'rouge_l': 0.5062783383283385, 'nist': 4.537954624236824, 'cider': 0.09167877552176247}\n",
      "Evaluation for Rank: 32\n",
      "trainable params: 3,145,728 || all params: 357,969,920 || trainable%: 0.8788\n",
      "None\n"
     ]
    },
    {
     "data": {
      "application/vnd.jupyter.widget-view+json": {
       "model_id": "b5601dcdcf04420ca1ec2f96eb8638b1",
       "version_major": 2,
       "version_minor": 0
      },
      "text/plain": [
       "Epoch 1/2:   0%|          | 0/2500 [00:00<?, ?it/s]"
      ]
     },
     "metadata": {},
     "output_type": "display_data"
    },
    {
     "data": {
      "application/vnd.jupyter.widget-view+json": {
       "model_id": "50419680457248f8933000c6388ab0ee",
       "version_major": 2,
       "version_minor": 0
      },
      "text/plain": [
       "Epoch 2/2:   0%|          | 0/2500 [00:00<?, ?it/s]"
      ]
     },
     "metadata": {},
     "output_type": "display_data"
    },
    {
     "data": {
      "application/vnd.jupyter.widget-view+json": {
       "model_id": "06610053e4cb45f8b8198503f10962ad",
       "version_major": 2,
       "version_minor": 0
      },
      "text/plain": [
       "Generating predictions:   0%|          | 0/500 [00:00<?, ?it/s]"
      ]
     },
     "metadata": {},
     "output_type": "display_data"
    },
    {
     "name": "stdout",
     "output_type": "stream",
     "text": [
      "{'bleu': 0.32262277481871, 'meteor': 0.4080079647010113, 'rouge_l': 0.5069489843489845, 'nist': 4.222508924746157, 'cider': 0.09167877552176247}\n",
      "Evaluation for Rank: 64\n",
      "trainable params: 6,291,456 || all params: 361,115,648 || trainable%: 1.7422\n",
      "None\n"
     ]
    },
    {
     "data": {
      "application/vnd.jupyter.widget-view+json": {
       "model_id": "fd7b07a0e11a4b5689adca3d62ae1a70",
       "version_major": 2,
       "version_minor": 0
      },
      "text/plain": [
       "Epoch 1/2:   0%|          | 0/2500 [00:00<?, ?it/s]"
      ]
     },
     "metadata": {},
     "output_type": "display_data"
    },
    {
     "data": {
      "application/vnd.jupyter.widget-view+json": {
       "model_id": "ff28167aa1914698bb11eb25144185bc",
       "version_major": 2,
       "version_minor": 0
      },
      "text/plain": [
       "Epoch 2/2:   0%|          | 0/2500 [00:00<?, ?it/s]"
      ]
     },
     "metadata": {},
     "output_type": "display_data"
    },
    {
     "data": {
      "application/vnd.jupyter.widget-view+json": {
       "model_id": "065a2e0f53b0446a819b189c36085ec1",
       "version_major": 2,
       "version_minor": 0
      },
      "text/plain": [
       "Generating predictions:   0%|          | 0/500 [00:00<?, ?it/s]"
      ]
     },
     "metadata": {},
     "output_type": "display_data"
    },
    {
     "name": "stdout",
     "output_type": "stream",
     "text": [
      "{'bleu': 0.27196257714871563, 'meteor': 0.4204970705204531, 'rouge_l': 0.5233861952861955, 'nist': 4.15766818133846, 'cider': 0.09167877552176247}\n",
      "Evaluation for Rank: 128\n",
      "trainable params: 12,582,912 || all params: 367,407,104 || trainable%: 3.4248\n",
      "None\n"
     ]
    },
    {
     "data": {
      "application/vnd.jupyter.widget-view+json": {
       "model_id": "b5630c8512064383a35f3b8741469bc1",
       "version_major": 2,
       "version_minor": 0
      },
      "text/plain": [
       "Epoch 1/2:   0%|          | 0/2500 [00:00<?, ?it/s]"
      ]
     },
     "metadata": {},
     "output_type": "display_data"
    },
    {
     "data": {
      "application/vnd.jupyter.widget-view+json": {
       "model_id": "43d626fe20de4db0b76dccc74bfe6775",
       "version_major": 2,
       "version_minor": 0
      },
      "text/plain": [
       "Epoch 2/2:   0%|          | 0/2500 [00:00<?, ?it/s]"
      ]
     },
     "metadata": {},
     "output_type": "display_data"
    },
    {
     "data": {
      "application/vnd.jupyter.widget-view+json": {
       "model_id": "da0a601fb0584eab8dd8b88bf8eed249",
       "version_major": 2,
       "version_minor": 0
      },
      "text/plain": [
       "Generating predictions:   0%|          | 0/500 [00:00<?, ?it/s]"
      ]
     },
     "metadata": {},
     "output_type": "display_data"
    },
    {
     "name": "stdout",
     "output_type": "stream",
     "text": [
      "{'bleu': 0.35688349197055386, 'meteor': 0.42455361473262354, 'rouge_l': 0.5175045695045697, 'nist': 4.4107851928493265, 'cider': 0.09167877552176247}\n",
      "Evaluation for Rank: 256\n",
      "trainable params: 25,165,824 || all params: 379,990,016 || trainable%: 6.6228\n",
      "None\n"
     ]
    },
    {
     "data": {
      "application/vnd.jupyter.widget-view+json": {
       "model_id": "22ef3c9448eb4e97aa2a92ce1b2a0a57",
       "version_major": 2,
       "version_minor": 0
      },
      "text/plain": [
       "Epoch 1/2:   0%|          | 0/2500 [00:00<?, ?it/s]"
      ]
     },
     "metadata": {},
     "output_type": "display_data"
    },
    {
     "data": {
      "application/vnd.jupyter.widget-view+json": {
       "model_id": "bfc7cd563ad04dd99e88153cd0327b8b",
       "version_major": 2,
       "version_minor": 0
      },
      "text/plain": [
       "Epoch 2/2:   0%|          | 0/2500 [00:00<?, ?it/s]"
      ]
     },
     "metadata": {},
     "output_type": "display_data"
    }
   ],
   "source": [
    "\n",
    "for rank in ranks:\n",
    "    peft_config = LoraConfig(\n",
    "    task_type=TaskType.CAUSAL_LM,\n",
    "    r=rank,\n",
    "    lora_alpha=alpha,\n",
    "    target_modules=[\"c_attn\"],\n",
    "    lora_dropout=dropout_prob,\n",
    "    init_lora_weights=\"gaussian\",\n",
    "    bias=\"none\"\n",
    "    )\n",
    "    \n",
    "    model = GPT2LMHeadModel.from_pretrained(model_name)\n",
    "    # FREEZE WEIGHTS\n",
    "    #for param in model.parameters():\n",
    "    #    param.requires_grad = False\n",
    "    if rank != 0:\n",
    "        model = get_peft_model(model, peft_config)\n",
    "    model = model.to(device)\n",
    "    with torch.no_grad():\n",
    "        model.resize_token_embeddings(len(tokenizer))\n",
    "    model.config.pad_token_id = tokenizer.pad_token_id\n",
    "    print(\"Evaluation for Rank: \" + str(rank))\n",
    "    if rank != 0:\n",
    "        print(model.print_trainable_parameters())\n",
    "\n",
    "    # Optimizer and scheduler\n",
    "    optimizer = torch.optim.AdamW(model.parameters(), lr=lr, weight_decay=weight_decay)\n",
    "    num_training_steps = num_epochs * len(train_dataloader)\n",
    "    scheduler = get_linear_schedule_with_warmup(optimizer, num_warmup_steps=num_warmup_steps, num_training_steps=num_training_steps)\n",
    "    \n",
    "    # Training loop\n",
    "    for epoch in range(num_epochs):\n",
    "        model.train()\n",
    "        progress_bar = tqdm(train_dataloader, desc=f\"Epoch {epoch+1}/{num_epochs}\")\n",
    "        for batch in progress_bar:\n",
    "            inputs = {key: val.to(device) for key, val in batch.items()}\n",
    "            outputs = model(**inputs)\n",
    "            loss = outputs.loss\n",
    "            loss.backward()\n",
    "            optimizer.step()\n",
    "            scheduler.step()\n",
    "            optimizer.zero_grad()\n",
    "            progress_bar.set_postfix(loss=loss.item())\n",
    "    \n",
    "    # Evaluation\n",
    "    predictions, references = generate_predictions(test_dataloader, model, tokenizer, length_penalty=length_penalty)\n",
    "    bleu_score = bleu.compute(predictions=predictions, references=references)\n",
    "    meteor_score = meteor(predictions=predictions, references=references)\n",
    "    rouge_score = rouge.compute(predictions=predictions, references=references)\n",
    "    nist_score = nist.compute(predictions=predictions, references=references)\n",
    "    cider_score = cider(predictions=predictions, references=references)\n",
    "\n",
    "    test_metrics = {\n",
    "        'bleu': bleu_score['bleu'],\n",
    "        'meteor': meteor_score['meteor']['score'],\n",
    "        'rouge_l': rouge_score['rougeL'],\n",
    "        'nist': nist_score['nist_mt'],\n",
    "        'cider': cider_score['cider']['score']\n",
    "    }\n",
    "\n",
    "    print(test_metrics)"
   ]
  },
  {
   "cell_type": "code",
   "execution_count": 23,
   "id": "6e97be25-beb0-4f9a-9364-4085ac0443df",
   "metadata": {},
   "outputs": [
    {
     "data": {
      "application/vnd.jupyter.widget-view+json": {
       "model_id": "c204e1bae8304cc3ad5a1fe158ca9e5d",
       "version_major": 2,
       "version_minor": 0
      },
      "text/plain": [
       "Generating predictions:   0%|          | 0/500 [00:00<?, ?it/s]"
      ]
     },
     "metadata": {},
     "output_type": "display_data"
    },
    {
     "name": "stdout",
     "output_type": "stream",
     "text": [
      "{'bleu': 0.37588958413318463, 'meteor': 0.4170101041124922, 'rouge_l': 0.5083502664002665, 'nist': 4.426698893183452, 'cider': 0.09167877552176247}\n"
     ]
    }
   ],
   "source": [
    "# backup in case of OutOfMemory\n",
    "test_dataloader = DataLoader(test_tokenized, batch_size=1, collate_fn=custom_collate_fn)\n",
    "predictions, references = generate_predictions(test_dataloader, model, tokenizer, length_penalty=length_penalty)\n",
    "bleu_score = bleu.compute(predictions=predictions, references=references)\n",
    "meteor_score = meteor(predictions=predictions, references=references)\n",
    "rouge_score = rouge.compute(predictions=predictions, references=references)\n",
    "nist_score = nist.compute(predictions=predictions, references=references)\n",
    "cider_score = cider(predictions=predictions, references=references)\n",
    "\n",
    "test_metrics = {\n",
    "    'bleu': bleu_score['bleu'],\n",
    "    'meteor': meteor_score['meteor']['score'],\n",
    "    'rouge_l': rouge_score['rougeL'],\n",
    "    'nist': nist_score['nist_mt'],\n",
    "    'cider': cider_score['cider']['score']\n",
    "}\n",
    "\n",
    "print(test_metrics)"
   ]
  },
  {
   "cell_type": "code",
   "execution_count": 18,
   "id": "d882dc61-1507-4310-8406-6d6e9a91de9a",
   "metadata": {},
   "outputs": [
    {
     "data": {
      "application/vnd.jupyter.widget-view+json": {
       "model_id": "ae3697f54d1c488e91e5a30bf26cf757",
       "version_major": 2,
       "version_minor": 0
      },
      "text/plain": [
       "Generating predictions:   0%|          | 0/63 [00:00<?, ?it/s]"
      ]
     },
     "metadata": {},
     "output_type": "display_data"
    },
    {
     "name": "stdout",
     "output_type": "stream",
     "text": [
      "Input Text: <Q>Which NFL team represented the AFC at Super Bowl 50?<C>Super Bowl 50 was an American football game to determine the champion of the National Football League (NFL) for the 2015 season. The American Football Conference (AFC) champion Denver Broncos defeated the National Football Conference (NFC) champion Carolina Panthers 24–10 to earn their third Super Bowl title. The game was played on February 7, 2016, at Levi's Stadium in the San Francisco Bay Area at Santa Clara, California. As this was the 50th Super Bowl, the league emphasized the \"golden anniversary\" with<A>\n",
      "Reference Text: denver broncos\n",
      "Prediction: denver broncos\n",
      "\n",
      "\n",
      "\n",
      "\n",
      "Input Text: <Q>Which NFL team represented the NFC at Super Bowl 50?<C>Super Bowl 50 was an American football game to determine the champion of the National Football League (NFL) for the 2015 season. The American Football Conference (AFC) champion Denver Broncos defeated the National Football Conference (NFC) champion Carolina Panthers 24–10 to earn their third Super Bowl title. The game was played on February 7, 2016, at Levi's Stadium in the San Francisco Bay Area at Santa Clara, California. As this was the 50th Super Bowl, the league emphasized the \"golden anniversary\" with<A>\n",
      "Reference Text: carolina panthers\n",
      "Prediction: denver broncos\n",
      "\n",
      "\n",
      "\n",
      "\n",
      "Input Text: <Q>Where did Super Bowl 50 take place?<C>Super Bowl 50 was an American football game to determine the champion of the National Football League (NFL) for the 2015 season. The American Football Conference (AFC) champion Denver Broncos defeated the National Football Conference (NFC) champion Carolina Panthers 24–10 to earn their third Super Bowl title. The game was played on February 7, 2016, at Levi's Stadium in the San Francisco Bay Area at Santa Clara, California. As this was the 50th Super Bowl, the league emphasized the \"golden anniversary\" with<A>\n",
      "Reference Text: santa clara , california\n",
      "Prediction: santa clara , california\n",
      "\n",
      "\n",
      "\n",
      "\n",
      "Input Text: <Q>Which NFL team won Super Bowl 50?<C>Super Bowl 50 was an American football game to determine the champion of the National Football League (NFL) for the 2015 season. The American Football Conference (AFC) champion Denver Broncos defeated the National Football Conference (NFC) champion Carolina Panthers 24–10 to earn their third Super Bowl title. The game was played on February 7, 2016, at Levi's Stadium in the San Francisco Bay Area at Santa Clara, California. As this was the 50th Super Bowl, the league emphasized the \"golden anniversary\" with<A>\n",
      "Reference Text: denver broncos\n",
      "Prediction: denver broncos\n",
      "\n",
      "\n",
      "\n",
      "\n",
      "Input Text: <Q>What color was used to emphasize the 50th anniversary of the Super Bowl?<C>Super Bowl 50 was an American football game to determine the champion of the National Football League (NFL) for the 2015 season. The American Football Conference (AFC) champion Denver Broncos defeated the National Football Conference (NFC) champion Carolina Panthers 24–10 to earn their third Super Bowl title. The game was played on February 7, 2016, at Levi's Stadium in the San Francisco Bay Area at Santa Clara, California. As this was the 50th Super Bowl, the league emphasized the \"golden anniversary\" with<A>\n",
      "Reference Text: gold\n",
      "Prediction: golden\n",
      "\n",
      "\n",
      "\n",
      "\n",
      "Input Text: <Q>What was the theme of Super Bowl 50?<C>Super Bowl 50 was an American football game to determine the champion of the National Football League (NFL) for the 2015 season. The American Football Conference (AFC) champion Denver Broncos defeated the National Football Conference (NFC) champion Carolina Panthers 24–10 to earn their third Super Bowl title. The game was played on February 7, 2016, at Levi's Stadium in the San Francisco Bay Area at Santa Clara, California. As this was the 50th Super Bowl, the league emphasized the \"golden anniversary\" with<A>\n",
      "Reference Text: \" golden anniversary \"\n",
      "Prediction: golden anniversary\n",
      "\n",
      "\n",
      "\n",
      "\n",
      "Input Text: <Q>What day was the game played on?<C>Super Bowl 50 was an American football game to determine the champion of the National Football League (NFL) for the 2015 season. The American Football Conference (AFC) champion Denver Broncos defeated the National Football Conference (NFC) champion Carolina Panthers 24–10 to earn their third Super Bowl title. The game was played on February 7, 2016, at Levi's Stadium in the San Francisco Bay Area at Santa Clara, California. As this was the 50th Super Bowl, the league emphasized the \"golden anniversary\" with<A>\n",
      "Reference Text: february 7 , 2016\n",
      "Prediction: february 7 , 2016\n",
      "\n",
      "\n",
      "\n",
      "\n",
      "Input Text: <Q>What is the AFC short for?<C>Super Bowl 50 was an American football game to determine the champion of the National Football League (NFL) for the 2015 season. The American Football Conference (AFC) champion Denver Broncos defeated the National Football Conference (NFC) champion Carolina Panthers 24–10 to earn their third Super Bowl title. The game was played on February 7, 2016, at Levi's Stadium in the San Francisco Bay Area at Santa Clara, California. As this was the 50th Super Bowl, the league emphasized the \"golden anniversary\" with<A>\n",
      "Reference Text: american football conference\n",
      "Prediction: american football conference\n",
      "\n",
      "\n",
      "\n",
      "\n",
      "Input Text: <Q>What was the theme of Super Bowl 50?<C>Super Bowl 50 was an American football game to determine the champion of the National Football League (NFL) for the 2015 season. The American Football Conference (AFC) champion Denver Broncos defeated the National Football Conference (NFC) champion Carolina Panthers 24–10 to earn their third Super Bowl title. The game was played on February 7, 2016, at Levi's Stadium in the San Francisco Bay Area at Santa Clara, California. As this was the 50th Super Bowl, the league emphasized the \"golden anniversary\" with<A>\n",
      "Reference Text: \" golden anniversary \"\n",
      "Prediction: golden anniversary\n",
      "\n",
      "\n",
      "\n",
      "\n",
      "Input Text: <Q>What does AFC stand for?<C>Super Bowl 50 was an American football game to determine the champion of the National Football League (NFL) for the 2015 season. The American Football Conference (AFC) champion Denver Broncos defeated the National Football Conference (NFC) champion Carolina Panthers 24–10 to earn their third Super Bowl title. The game was played on February 7, 2016, at Levi's Stadium in the San Francisco Bay Area at Santa Clara, California. As this was the 50th Super Bowl, the league emphasized the \"golden anniversary\" with<A>\n",
      "Reference Text: american football conference\n",
      "Prediction: american football conference\n",
      "\n",
      "\n",
      "\n",
      "\n",
      "Input Text: <Q>What day was the Super Bowl played on?<C>Super Bowl 50 was an American football game to determine the champion of the National Football League (NFL) for the 2015 season. The American Football Conference (AFC) champion Denver Broncos defeated the National Football Conference (NFC) champion Carolina Panthers 24–10 to earn their third Super Bowl title. The game was played on February 7, 2016, at Levi's Stadium in the San Francisco Bay Area at Santa Clara, California. As this was the 50th Super Bowl, the league emphasized the \"golden anniversary\" with<A>\n",
      "Reference Text: february 7 , 2016\n",
      "Prediction: february 7 , 2016\n",
      "\n",
      "\n",
      "\n",
      "\n",
      "Input Text: <Q>Who won Super Bowl 50?<C>Super Bowl 50 was an American football game to determine the champion of the National Football League (NFL) for the 2015 season. The American Football Conference (AFC) champion Denver Broncos defeated the National Football Conference (NFC) champion Carolina Panthers 24–10 to earn their third Super Bowl title. The game was played on February 7, 2016, at Levi's Stadium in the San Francisco Bay Area at Santa Clara, California. As this was the 50th Super Bowl, the league emphasized the \"golden anniversary\" with<A>\n",
      "Reference Text: denver broncos\n",
      "Prediction: denver broncos\n",
      "\n",
      "\n",
      "\n",
      "\n",
      "Input Text: <Q>What venue did Super Bowl 50 take place in?<C>Super Bowl 50 was an American football game to determine the champion of the National Football League (NFL) for the 2015 season. The American Football Conference (AFC) champion Denver Broncos defeated the National Football Conference (NFC) champion Carolina Panthers 24–10 to earn their third Super Bowl title. The game was played on February 7, 2016, at Levi's Stadium in the San Francisco Bay Area at Santa Clara, California. As this was the 50th Super Bowl, the league emphasized the \"golden anniversary\" with<A>\n",
      "Reference Text: levi ' s stadium\n",
      "Prediction: santa clara , california\n",
      "\n",
      "\n",
      "\n",
      "\n",
      "Input Text: <Q>What city did Super Bowl 50 take place in?<C>Super Bowl 50 was an American football game to determine the champion of the National Football League (NFL) for the 2015 season. The American Football Conference (AFC) champion Denver Broncos defeated the National Football Conference (NFC) champion Carolina Panthers 24–10 to earn their third Super Bowl title. The game was played on February 7, 2016, at Levi's Stadium in the San Francisco Bay Area at Santa Clara, California. As this was the 50th Super Bowl, the league emphasized the \"golden anniversary\" with<A>\n",
      "Reference Text: santa clara\n",
      "Prediction: san francisco bay area\n",
      "\n",
      "\n",
      "\n",
      "\n",
      "Input Text: <Q>If Roman numerals were used, what would Super Bowl 50 have been called?<C>Super Bowl 50 was an American football game to determine the champion of the National Football League (NFL) for the 2015 season. The American Football Conference (AFC) champion Denver Broncos defeated the National Football Conference (NFC) champion Carolina Panthers 24–10 to earn their third Super Bowl title. The game was played on February 7, 2016, at Levi's Stadium in the San Francisco Bay Area at Santa Clara, California. As this was the 50th Super Bowl, the league emphasized the \"golden anniversary\" with<A>\n",
      "Reference Text: super bowl l\n",
      "Prediction: broncos\n",
      "\n",
      "\n",
      "\n",
      "\n",
      "Input Text: <Q>Super Bowl 50 decided the NFL champion for what season?<C>Super Bowl 50 was an American football game to determine the champion of the National Football League (NFL) for the 2015 season. The American Football Conference (AFC) champion Denver Broncos defeated the National Football Conference (NFC) champion Carolina Panthers 24–10 to earn their third Super Bowl title. The game was played on February 7, 2016, at Levi's Stadium in the San Francisco Bay Area at Santa Clara, California. As this was the 50th Super Bowl, the league emphasized the \"golden anniversary\" with<A>\n",
      "Reference Text: 2015\n",
      "Prediction: denver broncos\n",
      "\n",
      "\n",
      "\n",
      "\n",
      "Input Text: <Q>What year did the Denver Broncos secure a Super Bowl title for the third time?<C>Super Bowl 50 was an American football game to determine the champion of the National Football League (NFL) for the 2015 season. The American Football Conference (AFC) champion Denver Broncos defeated the National Football Conference (NFC) champion Carolina Panthers 24–10 to earn their third Super Bowl title. The game was played on February 7, 2016, at Levi's Stadium in the San Francisco Bay Area at Santa Clara, California. As this was the 50th Super Bowl, the league emphasized the \"golden anniversary\" with<A>\n",
      "Reference Text: 2015\n",
      "Prediction: 2015\n",
      "\n",
      "\n",
      "\n",
      "\n",
      "Input Text: <Q>What city did Super Bowl 50 take place in?<C>Super Bowl 50 was an American football game to determine the champion of the National Football League (NFL) for the 2015 season. The American Football Conference (AFC) champion Denver Broncos defeated the National Football Conference (NFC) champion Carolina Panthers 24–10 to earn their third Super Bowl title. The game was played on February 7, 2016, at Levi's Stadium in the San Francisco Bay Area at Santa Clara, California. As this was the 50th Super Bowl, the league emphasized the \"golden anniversary\" with<A>\n",
      "Reference Text: santa clara\n",
      "Prediction: san francisco bay area\n",
      "\n",
      "\n",
      "\n",
      "\n",
      "Input Text: <Q>What stadium did Super Bowl 50 take place in?<C>Super Bowl 50 was an American football game to determine the champion of the National Football League (NFL) for the 2015 season. The American Football Conference (AFC) champion Denver Broncos defeated the National Football Conference (NFC) champion Carolina Panthers 24–10 to earn their third Super Bowl title. The game was played on February 7, 2016, at Levi's Stadium in the San Francisco Bay Area at Santa Clara, California. As this was the 50th Super Bowl, the league emphasized the \"golden anniversary\" with<A>\n",
      "Reference Text: levi ' s stadium\n",
      "Prediction: san francisco bay area\n",
      "\n",
      "\n",
      "\n",
      "\n",
      "Input Text: <Q>What was the final score of Super Bowl 50? <C>Super Bowl 50 was an American football game to determine the champion of the National Football League (NFL) for the 2015 season. The American Football Conference (AFC) champion Denver Broncos defeated the National Football Conference (NFC) champion Carolina Panthers 24–10 to earn their third Super Bowl title. The game was played on February 7, 2016, at Levi's Stadium in the San Francisco Bay Area at Santa Clara, California. As this was the 50th Super Bowl, the league emphasized the \"golden anniversary\" with<A>\n",
      "Reference Text: 24 – 10\n",
      "Prediction: 24 – 10\n",
      "\n",
      "\n",
      "\n",
      "\n",
      "Input Text: <Q>What month, day and year did Super Bowl 50 take place? <C>Super Bowl 50 was an American football game to determine the champion of the National Football League (NFL) for the 2015 season. The American Football Conference (AFC) champion Denver Broncos defeated the National Football Conference (NFC) champion Carolina Panthers 24–10 to earn their third Super Bowl title. The game was played on February 7, 2016, at Levi's Stadium in the San Francisco Bay Area at Santa Clara, California. As this was the 50th Super Bowl, the league emphasized the \"golden anniversary\" with<A>\n",
      "Reference Text: february 7 , 2016\n",
      "Prediction: february 7 , 2016\n",
      "\n",
      "\n",
      "\n",
      "\n",
      "Input Text: <Q>What year was Super Bowl 50?<C>Super Bowl 50 was an American football game to determine the champion of the National Football League (NFL) for the 2015 season. The American Football Conference (AFC) champion Denver Broncos defeated the National Football Conference (NFC) champion Carolina Panthers 24–10 to earn their third Super Bowl title. The game was played on February 7, 2016, at Levi's Stadium in the San Francisco Bay Area at Santa Clara, California. As this was the 50th Super Bowl, the league emphasized the \"golden anniversary\" with<A>\n",
      "Reference Text: 2015\n",
      "Prediction: 2015\n",
      "\n",
      "\n",
      "\n",
      "\n",
      "Input Text: <Q>What team was the AFC champion?<C>Super Bowl 50 was an American football game to determine the champion of the National Football League (NFL) for the 2015 season. The American Football Conference (AFC) champion Denver Broncos defeated the National Football Conference (NFC) champion Carolina Panthers 24–10 to earn their third Super Bowl title. The game was played on February 7, 2016, at Levi's Stadium in the San Francisco Bay Area at Santa Clara, California. As this was the 50th Super Bowl, the league emphasized the \"golden anniversary\" with<A>\n",
      "Reference Text: denver broncos\n",
      "Prediction: denver broncos\n",
      "\n",
      "\n",
      "\n",
      "\n",
      "Input Text: <Q>What team was the NFC champion?<C>Super Bowl 50 was an American football game to determine the champion of the National Football League (NFL) for the 2015 season. The American Football Conference (AFC) champion Denver Broncos defeated the National Football Conference (NFC) champion Carolina Panthers 24–10 to earn their third Super Bowl title. The game was played on February 7, 2016, at Levi's Stadium in the San Francisco Bay Area at Santa Clara, California. As this was the 50th Super Bowl, the league emphasized the \"golden anniversary\" with<A>\n",
      "Reference Text: carolina panthers\n",
      "Prediction: denver broncos\n",
      "\n",
      "\n",
      "\n",
      "\n",
      "Input Text: <Q>Who won Super Bowl 50?<C>Super Bowl 50 was an American football game to determine the champion of the National Football League (NFL) for the 2015 season. The American Football Conference (AFC) champion Denver Broncos defeated the National Football Conference (NFC) champion Carolina Panthers 24–10 to earn their third Super Bowl title. The game was played on February 7, 2016, at Levi's Stadium in the San Francisco Bay Area at Santa Clara, California. As this was the 50th Super Bowl, the league emphasized the \"golden anniversary\" with<A>\n",
      "Reference Text: denver broncos\n",
      "Prediction: denver broncos\n",
      "\n",
      "\n",
      "\n",
      "\n",
      "Input Text: <Q>Super Bowl 50 determined the NFL champion for what season?<C>Super Bowl 50 was an American football game to determine the champion of the National Football League (NFL) for the 2015 season. The American Football Conference (AFC) champion Denver Broncos defeated the National Football Conference (NFC) champion Carolina Panthers 24–10 to earn their third Super Bowl title. The game was played on February 7, 2016, at Levi's Stadium in the San Francisco Bay Area at Santa Clara, California. As this was the 50th Super Bowl, the league emphasized the \"golden anniversary\" with<A>\n",
      "Reference Text: 2015\n",
      "Prediction: denver broncos\n",
      "\n",
      "\n",
      "\n",
      "\n",
      "Input Text: <Q>Which team won Super Bowl 50.<C>Super Bowl 50 was an American football game to determine the champion of the National Football League (NFL) for the 2015 season. The American Football Conference (AFC) champion Denver Broncos defeated the National Football Conference (NFC) champion Carolina Panthers 24–10 to earn their third Super Bowl title. The game was played on February 7, 2016, at Levi's Stadium in the San Francisco Bay Area at Santa Clara, California. As this was the 50th Super Bowl, the league emphasized the \"golden anniversary\" with<A>\n",
      "Reference Text: denver broncos\n",
      "Prediction: denver broncos\n",
      "\n",
      "\n",
      "\n",
      "\n",
      "Input Text: <Q>Where was Super Bowl 50 held?<C>Super Bowl 50 was an American football game to determine the champion of the National Football League (NFL) for the 2015 season. The American Football Conference (AFC) champion Denver Broncos defeated the National Football Conference (NFC) champion Carolina Panthers 24–10 to earn their third Super Bowl title. The game was played on February 7, 2016, at Levi's Stadium in the San Francisco Bay Area at Santa Clara, California. As this was the 50th Super Bowl, the league emphasized the \"golden anniversary\" with<A>\n",
      "Reference Text: santa clara , california .\n",
      "Prediction: santa clara , california\n",
      "\n",
      "\n",
      "\n",
      "\n",
      "Input Text: <Q>The name of the NFL championship game is?<C>Super Bowl 50 was an American football game to determine the champion of the National Football League (NFL) for the 2015 season. The American Football Conference (AFC) champion Denver Broncos defeated the National Football Conference (NFC) champion Carolina Panthers 24–10 to earn their third Super Bowl title. The game was played on February 7, 2016, at Levi's Stadium in the San Francisco Bay Area at Santa Clara, California. As this was the 50th Super Bowl, the league emphasized the \"golden anniversary\" with<A>\n",
      "Reference Text: super bowl\n",
      "Prediction: nfl championship game\n",
      "\n",
      "\n",
      "\n",
      "\n",
      "Input Text: <Q>What 2015 NFL team one the AFC playoff?<C>Super Bowl 50 was an American football game to determine the champion of the National Football League (NFL) for the 2015 season. The American Football Conference (AFC) champion Denver Broncos defeated the National Football Conference (NFC) champion Carolina Panthers 24–10 to earn their third Super Bowl title. The game was played on February 7, 2016, at Levi's Stadium in the San Francisco Bay Area at Santa Clara, California. As this was the 50th Super Bowl, the league emphasized the \"golden anniversary\" with<A>\n",
      "Reference Text: denver broncos\n",
      "Prediction: denver broncos\n",
      "\n",
      "\n",
      "\n",
      "\n",
      "Input Text: <Q>Which Carolina Panthers player was named Most Valuable Player?<C>The Panthers finished the regular season with a 15–1 record, and quarterback Cam Newton was named the NFL Most Valuable Player (MVP). They defeated the Arizona Cardinals 49–15 in the NFC Championship Game and advanced to their second Super Bowl appearance since the franchise was founded in 1995. The Broncos finished the regular season with a 12–4 record, and denied the New England Patriots a chance to defend their title from Super Bowl XLIX by defeating them 20–18 in the AFC Championship Game. They joined t<A>\n",
      "Reference Text: cam newton\n",
      "Prediction: cam newton\n",
      "\n",
      "\n",
      "\n",
      "\n",
      "Input Text: <Q>How many appearances have the Denver Broncos made in the Super Bowl?<C>The Panthers finished the regular season with a 15–1 record, and quarterback Cam Newton was named the NFL Most Valuable Player (MVP). They defeated the Arizona Cardinals 49–15 in the NFC Championship Game and advanced to their second Super Bowl appearance since the franchise was founded in 1995. The Broncos finished the regular season with a 12–4 record, and denied the New England Patriots a chance to defend their title from Super Bowl XLIX by defeating them 20–18 in the AFC Championship Game. They joined t<A>\n",
      "Reference Text: 8\n",
      "Prediction: 12\n",
      "\n",
      "\n",
      "\n",
      "\n"
     ]
    }
   ],
   "source": [
    "def generate_predictions(test_dataloader, model, tokenizer, length_penalty):\n",
    "    model.eval()\n",
    "    predictions = []\n",
    "    references = []\n",
    "    progress_bar = tqdm(test_dataloader, desc=\"Generating predictions\")\n",
    "    for idx, batch in enumerate(progress_bar):\n",
    "        if idx > 3:\n",
    "            break\n",
    "        input_ids = batch['input_ids'].to(model.device)\n",
    "        attention_mask = batch['attention_mask'].to(model.device)\n",
    "        questions = batch['question']\n",
    "        answers = batch['answer']\n",
    "        with torch.no_grad():\n",
    "            output_ids = model.generate(\n",
    "                input_ids,\n",
    "                attention_mask=attention_mask,\n",
    "                num_beams=10,\n",
    "                length_penalty=length_penalty,\n",
    "                repetition_penalty=1.0,\n",
    "                no_repeat_ngram_size=4,\n",
    "                max_new_tokens=64,\n",
    "                pad_token_id=tokenizer.pad_token_id,\n",
    "                eos_token_id=tokenizer.eos_token_id\n",
    "            )\n",
    "        for i, output in enumerate(output_ids):\n",
    "            prediction = tokenizer.decode(output, skip_special_tokens=True)\n",
    "            input_text = questions[i]\n",
    "            prediction = prediction.strip()\n",
    "            predictions.append(format_outputs(prediction))\n",
    "            references.append(format_outputs(answers[i]))\n",
    "            print(f\"Input Text: {input_text}\")\n",
    "            print(f\"Reference Text: {format_outputs(answers[i])}\")\n",
    "            print(f\"Prediction: {format_outputs(prediction)}\")\n",
    "            print(\"\\n\\n\\n\")\n",
    "    return predictions, references\n",
    "\n",
    "predictions, references = generate_predictions(test_dataloader, model, tokenizer, length_penalty=length_penalty)"
   ]
  }
 ],
 "metadata": {
  "kernelspec": {
   "display_name": "Python 3 (ipykernel)",
   "language": "python",
   "name": "python3"
  },
  "language_info": {
   "codemirror_mode": {
    "name": "ipython",
    "version": 3
   },
   "file_extension": ".py",
   "mimetype": "text/x-python",
   "name": "python",
   "nbconvert_exporter": "python",
   "pygments_lexer": "ipython3",
   "version": "3.11.10"
  }
 },
 "nbformat": 4,
 "nbformat_minor": 5
}
